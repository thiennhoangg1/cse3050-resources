{
  "nbformat": 4,
  "nbformat_minor": 0,
  "metadata": {
    "colab": {
      "provenance": [],
      "include_colab_link": true
    },
    "kernelspec": {
      "name": "python3",
      "display_name": "Python 3"
    },
    "language_info": {
      "name": "python"
    }
  },
  "cells": [
    {
      "cell_type": "markdown",
      "metadata": {
        "id": "view-in-github",
        "colab_type": "text"
      },
      "source": [
        "<a href=\"https://colab.research.google.com/github/thiennhoangg1/cse3050-resources/blob/main/Copy_of_RDS_Lab1_2_student.ipynb\" target=\"_parent\"><img src=\"https://colab.research.google.com/assets/colab-badge.svg\" alt=\"Open In Colab\"/></a>"
      ]
    },
    {
      "cell_type": "markdown",
      "source": [
        "# Repeating Lab1-1 (without TO DOs) here in Lab1-2: ProPublica's Analysis of the COMPAS Tool\n",
        "\n",
        "\n",
        "In 2016, [ProPublica published an analysis](https://www.propublica.org/article/machine-bias-risk-assessments-in-criminal-sentencing) of the Correctional Offender Management Profiling for Alternative Sanctions (COMPAS) tool. COMPAS is a proprietary tool which generates a so-called risk assessment for defendants in a criminal trial. ProPublica's analysis focused on the \"recidivism score,\" which purports to provide the likelihood of recidivism (i.e. committing a misdemeanor of felony) within two years of assessment.\n",
        "\n",
        "In this lab, we will go through parts of ProPublica's analysis of COMPAS, focusing on how the recidivism risk scale varies by race and sex.\n",
        "\n",
        "This notebook has four stages in which we will:\n",
        "1. Import the data, implement a few pre-processing steps, and inspect the data\n",
        "2. Run a short exploratory analysis of the COMPAS recidivism score, our primary variable of interest\n",
        "3. Reproduce the logistic regression model in ProPublica's analysis and interpret the estimates\n",
        "4. Compute the predictive accuracy of the risk score labels\n",
        "\n",
        "# Run all the cells and scroll down to find \"Bias in COMPAS\" and continue the lab from there!"
      ],
      "metadata": {
        "id": "VFDrLUSQsCPI"
      }
    },
    {
      "cell_type": "markdown",
      "source": [
        "# Packages and Modules"
      ],
      "metadata": {
        "id": "N9DG5_OzsM7d"
      }
    },
    {
      "cell_type": "markdown",
      "source": [],
      "metadata": {
        "id": "Sm7LZCp0xaKg"
      }
    },
    {
      "cell_type": "markdown",
      "source": [
        "You may need to install the following packages:"
      ],
      "metadata": {
        "id": "_Da9E3VmsfQa"
      }
    },
    {
      "cell_type": "code",
      "execution_count": null,
      "metadata": {
        "colab": {
          "base_uri": "https://localhost:8080/"
        },
        "id": "foKV8YGRKzvT",
        "outputId": "6c6fb5ea-f7ce-417e-89ba-9d6466d32f68"
      },
      "outputs": [
        {
          "output_type": "stream",
          "name": "stdout",
          "text": [
            "Requirement already satisfied: pandas in /usr/local/lib/python3.11/dist-packages (2.2.2)\n",
            "Requirement already satisfied: numpy in /usr/local/lib/python3.11/dist-packages (1.26.4)\n",
            "Requirement already satisfied: statsmodels in /usr/local/lib/python3.11/dist-packages (0.14.4)\n",
            "Requirement already satisfied: matplotlib in /usr/local/lib/python3.11/dist-packages (3.10.0)\n",
            "Requirement already satisfied: seaborn in /usr/local/lib/python3.11/dist-packages (0.13.2)\n",
            "Requirement already satisfied: python-dateutil>=2.8.2 in /usr/local/lib/python3.11/dist-packages (from pandas) (2.8.2)\n",
            "Requirement already satisfied: pytz>=2020.1 in /usr/local/lib/python3.11/dist-packages (from pandas) (2024.2)\n",
            "Requirement already satisfied: tzdata>=2022.7 in /usr/local/lib/python3.11/dist-packages (from pandas) (2025.1)\n",
            "Requirement already satisfied: scipy!=1.9.2,>=1.8 in /usr/local/lib/python3.11/dist-packages (from statsmodels) (1.13.1)\n",
            "Requirement already satisfied: patsy>=0.5.6 in /usr/local/lib/python3.11/dist-packages (from statsmodels) (1.0.1)\n",
            "Requirement already satisfied: packaging>=21.3 in /usr/local/lib/python3.11/dist-packages (from statsmodels) (24.2)\n",
            "Requirement already satisfied: contourpy>=1.0.1 in /usr/local/lib/python3.11/dist-packages (from matplotlib) (1.3.1)\n",
            "Requirement already satisfied: cycler>=0.10 in /usr/local/lib/python3.11/dist-packages (from matplotlib) (0.12.1)\n",
            "Requirement already satisfied: fonttools>=4.22.0 in /usr/local/lib/python3.11/dist-packages (from matplotlib) (4.55.6)\n",
            "Requirement already satisfied: kiwisolver>=1.3.1 in /usr/local/lib/python3.11/dist-packages (from matplotlib) (1.4.8)\n",
            "Requirement already satisfied: pillow>=8 in /usr/local/lib/python3.11/dist-packages (from matplotlib) (11.1.0)\n",
            "Requirement already satisfied: pyparsing>=2.3.1 in /usr/local/lib/python3.11/dist-packages (from matplotlib) (3.2.1)\n",
            "Requirement already satisfied: six>=1.5 in /usr/local/lib/python3.11/dist-packages (from python-dateutil>=2.8.2->pandas) (1.17.0)\n"
          ]
        }
      ],
      "source": [
        "#@title Installs\n",
        "%pip install pandas numpy statsmodels matplotlib seaborn"
      ]
    },
    {
      "cell_type": "markdown",
      "source": [
        "Import the packages and modules:"
      ],
      "metadata": {
        "id": "LnRiKKwRs2oQ"
      }
    },
    {
      "cell_type": "code",
      "source": [
        "#@title Imports\n",
        "import math\n",
        "import pandas as pd\n",
        "import numpy as np\n",
        "import statsmodels.api as sm\n",
        "import matplotlib\n",
        "import matplotlib.pyplot as plt\n",
        "%matplotlib inline\n",
        "import seaborn as sns"
      ],
      "metadata": {
        "id": "jkHZs8KLs-NI"
      },
      "execution_count": null,
      "outputs": []
    },
    {
      "cell_type": "code",
      "source": [
        "#@title Load Data:\n",
        "#@markdown Import the data from ProPublica's compas-analysis repository on GitHub and check the first few rows\n",
        "url = \"https://raw.githubusercontent.com/propublica/compas-analysis/master/compas-scores-two-years.csv\"\n",
        "df_compas = pd.read_csv(url)\n",
        "print(\"Shape: \", df_compas.shape)\n",
        "df_compas.head(5)"
      ],
      "metadata": {
        "colab": {
          "base_uri": "https://localhost:8080/",
          "height": 359
        },
        "id": "hDq3etbptSaq",
        "outputId": "2d957e54-7479-48c7-fc72-2a8a9d90a266"
      },
      "execution_count": null,
      "outputs": [
        {
          "output_type": "stream",
          "name": "stdout",
          "text": [
            "Shape:  (7214, 53)\n"
          ]
        },
        {
          "output_type": "execute_result",
          "data": {
            "text/plain": [
              "   id                name   first         last compas_screening_date   sex  \\\n",
              "0   1    miguel hernandez  miguel    hernandez            2013-08-14  Male   \n",
              "1   3         kevon dixon   kevon        dixon            2013-01-27  Male   \n",
              "2   4            ed philo      ed        philo            2013-04-14  Male   \n",
              "3   5         marcu brown   marcu        brown            2013-01-13  Male   \n",
              "4   6  bouthy pierrelouis  bouthy  pierrelouis            2013-03-26  Male   \n",
              "\n",
              "          dob  age          age_cat              race  ...  v_decile_score  \\\n",
              "0  1947-04-18   69  Greater than 45             Other  ...               1   \n",
              "1  1982-01-22   34          25 - 45  African-American  ...               1   \n",
              "2  1991-05-14   24     Less than 25  African-American  ...               3   \n",
              "3  1993-01-21   23     Less than 25  African-American  ...               6   \n",
              "4  1973-01-22   43          25 - 45             Other  ...               1   \n",
              "\n",
              "   v_score_text  v_screening_date  in_custody  out_custody  priors_count.1  \\\n",
              "0           Low        2013-08-14  2014-07-07   2014-07-14               0   \n",
              "1           Low        2013-01-27  2013-01-26   2013-02-05               0   \n",
              "2           Low        2013-04-14  2013-06-16   2013-06-16               4   \n",
              "3        Medium        2013-01-13         NaN          NaN               1   \n",
              "4           Low        2013-03-26         NaN          NaN               2   \n",
              "\n",
              "  start   end event two_year_recid  \n",
              "0     0   327     0              0  \n",
              "1     9   159     1              1  \n",
              "2     0    63     0              1  \n",
              "3     0  1174     0              0  \n",
              "4     0  1102     0              0  \n",
              "\n",
              "[5 rows x 53 columns]"
            ],
            "text/html": [
              "\n",
              "  <div id=\"df-63fe7d88-123f-4434-aff9-78d2dccc81ea\" class=\"colab-df-container\">\n",
              "    <div>\n",
              "<style scoped>\n",
              "    .dataframe tbody tr th:only-of-type {\n",
              "        vertical-align: middle;\n",
              "    }\n",
              "\n",
              "    .dataframe tbody tr th {\n",
              "        vertical-align: top;\n",
              "    }\n",
              "\n",
              "    .dataframe thead th {\n",
              "        text-align: right;\n",
              "    }\n",
              "</style>\n",
              "<table border=\"1\" class=\"dataframe\">\n",
              "  <thead>\n",
              "    <tr style=\"text-align: right;\">\n",
              "      <th></th>\n",
              "      <th>id</th>\n",
              "      <th>name</th>\n",
              "      <th>first</th>\n",
              "      <th>last</th>\n",
              "      <th>compas_screening_date</th>\n",
              "      <th>sex</th>\n",
              "      <th>dob</th>\n",
              "      <th>age</th>\n",
              "      <th>age_cat</th>\n",
              "      <th>race</th>\n",
              "      <th>...</th>\n",
              "      <th>v_decile_score</th>\n",
              "      <th>v_score_text</th>\n",
              "      <th>v_screening_date</th>\n",
              "      <th>in_custody</th>\n",
              "      <th>out_custody</th>\n",
              "      <th>priors_count.1</th>\n",
              "      <th>start</th>\n",
              "      <th>end</th>\n",
              "      <th>event</th>\n",
              "      <th>two_year_recid</th>\n",
              "    </tr>\n",
              "  </thead>\n",
              "  <tbody>\n",
              "    <tr>\n",
              "      <th>0</th>\n",
              "      <td>1</td>\n",
              "      <td>miguel hernandez</td>\n",
              "      <td>miguel</td>\n",
              "      <td>hernandez</td>\n",
              "      <td>2013-08-14</td>\n",
              "      <td>Male</td>\n",
              "      <td>1947-04-18</td>\n",
              "      <td>69</td>\n",
              "      <td>Greater than 45</td>\n",
              "      <td>Other</td>\n",
              "      <td>...</td>\n",
              "      <td>1</td>\n",
              "      <td>Low</td>\n",
              "      <td>2013-08-14</td>\n",
              "      <td>2014-07-07</td>\n",
              "      <td>2014-07-14</td>\n",
              "      <td>0</td>\n",
              "      <td>0</td>\n",
              "      <td>327</td>\n",
              "      <td>0</td>\n",
              "      <td>0</td>\n",
              "    </tr>\n",
              "    <tr>\n",
              "      <th>1</th>\n",
              "      <td>3</td>\n",
              "      <td>kevon dixon</td>\n",
              "      <td>kevon</td>\n",
              "      <td>dixon</td>\n",
              "      <td>2013-01-27</td>\n",
              "      <td>Male</td>\n",
              "      <td>1982-01-22</td>\n",
              "      <td>34</td>\n",
              "      <td>25 - 45</td>\n",
              "      <td>African-American</td>\n",
              "      <td>...</td>\n",
              "      <td>1</td>\n",
              "      <td>Low</td>\n",
              "      <td>2013-01-27</td>\n",
              "      <td>2013-01-26</td>\n",
              "      <td>2013-02-05</td>\n",
              "      <td>0</td>\n",
              "      <td>9</td>\n",
              "      <td>159</td>\n",
              "      <td>1</td>\n",
              "      <td>1</td>\n",
              "    </tr>\n",
              "    <tr>\n",
              "      <th>2</th>\n",
              "      <td>4</td>\n",
              "      <td>ed philo</td>\n",
              "      <td>ed</td>\n",
              "      <td>philo</td>\n",
              "      <td>2013-04-14</td>\n",
              "      <td>Male</td>\n",
              "      <td>1991-05-14</td>\n",
              "      <td>24</td>\n",
              "      <td>Less than 25</td>\n",
              "      <td>African-American</td>\n",
              "      <td>...</td>\n",
              "      <td>3</td>\n",
              "      <td>Low</td>\n",
              "      <td>2013-04-14</td>\n",
              "      <td>2013-06-16</td>\n",
              "      <td>2013-06-16</td>\n",
              "      <td>4</td>\n",
              "      <td>0</td>\n",
              "      <td>63</td>\n",
              "      <td>0</td>\n",
              "      <td>1</td>\n",
              "    </tr>\n",
              "    <tr>\n",
              "      <th>3</th>\n",
              "      <td>5</td>\n",
              "      <td>marcu brown</td>\n",
              "      <td>marcu</td>\n",
              "      <td>brown</td>\n",
              "      <td>2013-01-13</td>\n",
              "      <td>Male</td>\n",
              "      <td>1993-01-21</td>\n",
              "      <td>23</td>\n",
              "      <td>Less than 25</td>\n",
              "      <td>African-American</td>\n",
              "      <td>...</td>\n",
              "      <td>6</td>\n",
              "      <td>Medium</td>\n",
              "      <td>2013-01-13</td>\n",
              "      <td>NaN</td>\n",
              "      <td>NaN</td>\n",
              "      <td>1</td>\n",
              "      <td>0</td>\n",
              "      <td>1174</td>\n",
              "      <td>0</td>\n",
              "      <td>0</td>\n",
              "    </tr>\n",
              "    <tr>\n",
              "      <th>4</th>\n",
              "      <td>6</td>\n",
              "      <td>bouthy pierrelouis</td>\n",
              "      <td>bouthy</td>\n",
              "      <td>pierrelouis</td>\n",
              "      <td>2013-03-26</td>\n",
              "      <td>Male</td>\n",
              "      <td>1973-01-22</td>\n",
              "      <td>43</td>\n",
              "      <td>25 - 45</td>\n",
              "      <td>Other</td>\n",
              "      <td>...</td>\n",
              "      <td>1</td>\n",
              "      <td>Low</td>\n",
              "      <td>2013-03-26</td>\n",
              "      <td>NaN</td>\n",
              "      <td>NaN</td>\n",
              "      <td>2</td>\n",
              "      <td>0</td>\n",
              "      <td>1102</td>\n",
              "      <td>0</td>\n",
              "      <td>0</td>\n",
              "    </tr>\n",
              "  </tbody>\n",
              "</table>\n",
              "<p>5 rows × 53 columns</p>\n",
              "</div>\n",
              "    <div class=\"colab-df-buttons\">\n",
              "\n",
              "  <div class=\"colab-df-container\">\n",
              "    <button class=\"colab-df-convert\" onclick=\"convertToInteractive('df-63fe7d88-123f-4434-aff9-78d2dccc81ea')\"\n",
              "            title=\"Convert this dataframe to an interactive table.\"\n",
              "            style=\"display:none;\">\n",
              "\n",
              "  <svg xmlns=\"http://www.w3.org/2000/svg\" height=\"24px\" viewBox=\"0 -960 960 960\">\n",
              "    <path d=\"M120-120v-720h720v720H120Zm60-500h600v-160H180v160Zm220 220h160v-160H400v160Zm0 220h160v-160H400v160ZM180-400h160v-160H180v160Zm440 0h160v-160H620v160ZM180-180h160v-160H180v160Zm440 0h160v-160H620v160Z\"/>\n",
              "  </svg>\n",
              "    </button>\n",
              "\n",
              "  <style>\n",
              "    .colab-df-container {\n",
              "      display:flex;\n",
              "      gap: 12px;\n",
              "    }\n",
              "\n",
              "    .colab-df-convert {\n",
              "      background-color: #E8F0FE;\n",
              "      border: none;\n",
              "      border-radius: 50%;\n",
              "      cursor: pointer;\n",
              "      display: none;\n",
              "      fill: #1967D2;\n",
              "      height: 32px;\n",
              "      padding: 0 0 0 0;\n",
              "      width: 32px;\n",
              "    }\n",
              "\n",
              "    .colab-df-convert:hover {\n",
              "      background-color: #E2EBFA;\n",
              "      box-shadow: 0px 1px 2px rgba(60, 64, 67, 0.3), 0px 1px 3px 1px rgba(60, 64, 67, 0.15);\n",
              "      fill: #174EA6;\n",
              "    }\n",
              "\n",
              "    .colab-df-buttons div {\n",
              "      margin-bottom: 4px;\n",
              "    }\n",
              "\n",
              "    [theme=dark] .colab-df-convert {\n",
              "      background-color: #3B4455;\n",
              "      fill: #D2E3FC;\n",
              "    }\n",
              "\n",
              "    [theme=dark] .colab-df-convert:hover {\n",
              "      background-color: #434B5C;\n",
              "      box-shadow: 0px 1px 3px 1px rgba(0, 0, 0, 0.15);\n",
              "      filter: drop-shadow(0px 1px 2px rgba(0, 0, 0, 0.3));\n",
              "      fill: #FFFFFF;\n",
              "    }\n",
              "  </style>\n",
              "\n",
              "    <script>\n",
              "      const buttonEl =\n",
              "        document.querySelector('#df-63fe7d88-123f-4434-aff9-78d2dccc81ea button.colab-df-convert');\n",
              "      buttonEl.style.display =\n",
              "        google.colab.kernel.accessAllowed ? 'block' : 'none';\n",
              "\n",
              "      async function convertToInteractive(key) {\n",
              "        const element = document.querySelector('#df-63fe7d88-123f-4434-aff9-78d2dccc81ea');\n",
              "        const dataTable =\n",
              "          await google.colab.kernel.invokeFunction('convertToInteractive',\n",
              "                                                    [key], {});\n",
              "        if (!dataTable) return;\n",
              "\n",
              "        const docLinkHtml = 'Like what you see? Visit the ' +\n",
              "          '<a target=\"_blank\" href=https://colab.research.google.com/notebooks/data_table.ipynb>data table notebook</a>'\n",
              "          + ' to learn more about interactive tables.';\n",
              "        element.innerHTML = '';\n",
              "        dataTable['output_type'] = 'display_data';\n",
              "        await google.colab.output.renderOutput(dataTable, element);\n",
              "        const docLink = document.createElement('div');\n",
              "        docLink.innerHTML = docLinkHtml;\n",
              "        element.appendChild(docLink);\n",
              "      }\n",
              "    </script>\n",
              "  </div>\n",
              "\n",
              "\n",
              "<div id=\"df-248f929b-c3fa-4895-bbff-fca740ef5bf1\">\n",
              "  <button class=\"colab-df-quickchart\" onclick=\"quickchart('df-248f929b-c3fa-4895-bbff-fca740ef5bf1')\"\n",
              "            title=\"Suggest charts\"\n",
              "            style=\"display:none;\">\n",
              "\n",
              "<svg xmlns=\"http://www.w3.org/2000/svg\" height=\"24px\"viewBox=\"0 0 24 24\"\n",
              "     width=\"24px\">\n",
              "    <g>\n",
              "        <path d=\"M19 3H5c-1.1 0-2 .9-2 2v14c0 1.1.9 2 2 2h14c1.1 0 2-.9 2-2V5c0-1.1-.9-2-2-2zM9 17H7v-7h2v7zm4 0h-2V7h2v10zm4 0h-2v-4h2v4z\"/>\n",
              "    </g>\n",
              "</svg>\n",
              "  </button>\n",
              "\n",
              "<style>\n",
              "  .colab-df-quickchart {\n",
              "      --bg-color: #E8F0FE;\n",
              "      --fill-color: #1967D2;\n",
              "      --hover-bg-color: #E2EBFA;\n",
              "      --hover-fill-color: #174EA6;\n",
              "      --disabled-fill-color: #AAA;\n",
              "      --disabled-bg-color: #DDD;\n",
              "  }\n",
              "\n",
              "  [theme=dark] .colab-df-quickchart {\n",
              "      --bg-color: #3B4455;\n",
              "      --fill-color: #D2E3FC;\n",
              "      --hover-bg-color: #434B5C;\n",
              "      --hover-fill-color: #FFFFFF;\n",
              "      --disabled-bg-color: #3B4455;\n",
              "      --disabled-fill-color: #666;\n",
              "  }\n",
              "\n",
              "  .colab-df-quickchart {\n",
              "    background-color: var(--bg-color);\n",
              "    border: none;\n",
              "    border-radius: 50%;\n",
              "    cursor: pointer;\n",
              "    display: none;\n",
              "    fill: var(--fill-color);\n",
              "    height: 32px;\n",
              "    padding: 0;\n",
              "    width: 32px;\n",
              "  }\n",
              "\n",
              "  .colab-df-quickchart:hover {\n",
              "    background-color: var(--hover-bg-color);\n",
              "    box-shadow: 0 1px 2px rgba(60, 64, 67, 0.3), 0 1px 3px 1px rgba(60, 64, 67, 0.15);\n",
              "    fill: var(--button-hover-fill-color);\n",
              "  }\n",
              "\n",
              "  .colab-df-quickchart-complete:disabled,\n",
              "  .colab-df-quickchart-complete:disabled:hover {\n",
              "    background-color: var(--disabled-bg-color);\n",
              "    fill: var(--disabled-fill-color);\n",
              "    box-shadow: none;\n",
              "  }\n",
              "\n",
              "  .colab-df-spinner {\n",
              "    border: 2px solid var(--fill-color);\n",
              "    border-color: transparent;\n",
              "    border-bottom-color: var(--fill-color);\n",
              "    animation:\n",
              "      spin 1s steps(1) infinite;\n",
              "  }\n",
              "\n",
              "  @keyframes spin {\n",
              "    0% {\n",
              "      border-color: transparent;\n",
              "      border-bottom-color: var(--fill-color);\n",
              "      border-left-color: var(--fill-color);\n",
              "    }\n",
              "    20% {\n",
              "      border-color: transparent;\n",
              "      border-left-color: var(--fill-color);\n",
              "      border-top-color: var(--fill-color);\n",
              "    }\n",
              "    30% {\n",
              "      border-color: transparent;\n",
              "      border-left-color: var(--fill-color);\n",
              "      border-top-color: var(--fill-color);\n",
              "      border-right-color: var(--fill-color);\n",
              "    }\n",
              "    40% {\n",
              "      border-color: transparent;\n",
              "      border-right-color: var(--fill-color);\n",
              "      border-top-color: var(--fill-color);\n",
              "    }\n",
              "    60% {\n",
              "      border-color: transparent;\n",
              "      border-right-color: var(--fill-color);\n",
              "    }\n",
              "    80% {\n",
              "      border-color: transparent;\n",
              "      border-right-color: var(--fill-color);\n",
              "      border-bottom-color: var(--fill-color);\n",
              "    }\n",
              "    90% {\n",
              "      border-color: transparent;\n",
              "      border-bottom-color: var(--fill-color);\n",
              "    }\n",
              "  }\n",
              "</style>\n",
              "\n",
              "  <script>\n",
              "    async function quickchart(key) {\n",
              "      const quickchartButtonEl =\n",
              "        document.querySelector('#' + key + ' button');\n",
              "      quickchartButtonEl.disabled = true;  // To prevent multiple clicks.\n",
              "      quickchartButtonEl.classList.add('colab-df-spinner');\n",
              "      try {\n",
              "        const charts = await google.colab.kernel.invokeFunction(\n",
              "            'suggestCharts', [key], {});\n",
              "      } catch (error) {\n",
              "        console.error('Error during call to suggestCharts:', error);\n",
              "      }\n",
              "      quickchartButtonEl.classList.remove('colab-df-spinner');\n",
              "      quickchartButtonEl.classList.add('colab-df-quickchart-complete');\n",
              "    }\n",
              "    (() => {\n",
              "      let quickchartButtonEl =\n",
              "        document.querySelector('#df-248f929b-c3fa-4895-bbff-fca740ef5bf1 button');\n",
              "      quickchartButtonEl.style.display =\n",
              "        google.colab.kernel.accessAllowed ? 'block' : 'none';\n",
              "    })();\n",
              "  </script>\n",
              "</div>\n",
              "\n",
              "    </div>\n",
              "  </div>\n"
            ],
            "application/vnd.google.colaboratory.intrinsic+json": {
              "type": "dataframe",
              "variable_name": "df_compas"
            }
          },
          "metadata": {},
          "execution_count": 3
        }
      ]
    },
    {
      "cell_type": "markdown",
      "source": [
        "## Notes on the Data\n",
        "\n",
        "Refer to the description of the [data collection methodology](https://www.propublica.org/article/how-we-analyzed-the-compas-recidivism-algorithm). Salient points are highlighted below; see the full description from ProPublica for additional details.\n",
        "\n",
        "> **Goal:** We looked at more than 10,000 criminal defendants in Broward County, Florida, and compared their predicted recidivism rates with the rate that actually occurred over a two-year period.\n",
        ">\n",
        "> **COMPAS tool input (data subjects):** When most defendants are booked in jail, they respond to a COMPAS questionnaire. Their answers are fed into the COMPAS software to generate several scores including predictions of Risk of Recidivism and Risk of Violent Recidivism.\n",
        ">\n",
        "> **How COMPAS input was acquired by ProPublica:** Through a public records request, ProPublica obtained two years worth of COMPAS scores from the Broward County Sheriff’s Office in Florida. We received data for all 18,610 people who were scored in 2013 and 2014.\n",
        ">\n",
        "> **COMPAS tool output:** Each pretrial defendant received at least three COMPAS scores: \"Risk of Recidivism,\" \"Risk of Violence\" and \"Risk of Failure to Appear. [...] COMPAS scores for each defendant ranged from 1 to 10, with ten being the highest risk. Scores 1 to 4 were labeled by COMPAS as \"Low;\" 5 to 7 were labeled “Medium;\" and 8 to 10 were labeled “High.”\n",
        ">\n",
        "> **Data integration (record linkage):** Starting with the database of COMPAS scores, we built a profile of each person’s criminal history, both before and after they were scored. We collected public criminal records from the Broward County Clerk’s Office website through April 1, 2016. On average, defendants in our dataset were not incarcerated for 622.87 days (sd: 329.19). We matched the criminal records to the COMPAS records using a person’s first and last names and date of birth. This is the same technique used in the Broward County COMPAS validation study conducted by researchers at Florida State University in 2010. We downloaded around 80,000 criminal records from the Broward County Clerk’s Office website.\n",
        ">\n",
        "> **What is recidivism?** Northpointe defined recidivism as “a finger-printable arrest involving a charge and a filing for any uniform crime reporting (UCR) code.” We interpreted that to mean a criminal offense that resulted in a jail booking and took place after the crime for which the person was COMPAS scored. [...] For most of our analysis, we defined recidivism as a new arrest within two years."
      ],
      "metadata": {
        "id": "oqYep8mutsFF"
      }
    },
    {
      "cell_type": "markdown",
      "source": [
        "# Inspect Data\n",
        "\n",
        "For convenience, here is a table of variable definitions:\n",
        "\n",
        "| Variable    | Description |\n",
        "| ----------- | ----------- |\n",
        "| age       |  Age of the defendant   |\n",
        "| age_cat   |  Age category. It can be < 25, 25-45, >45    |\n",
        "| sex   |  Sex of the defendant. It is either \"Male\" or \"Female\"       |\n",
        "| race   |  Race of the defendant. It can be \"African-American\", \"Caucasian\", \"Hispanic\", \"Asian\", or \"Other\"      |\n",
        "| c_charge_degree   |   Charge. Either \"M\" for misdemeanor, \"F\" for felony, or \"O\" (not causing jail time)    |\n",
        "| priors_count   |   Count of prior crimes committed by the defendant      |\n",
        "| days_b_screening_arrest   |  Days between the arrest and COMPAS screening       |\n",
        "| decile_score   |  The COMPAS score estimated by the system. It is between 0-10       |\n",
        "| score_text   |  Decile score. It can be \"Low\" (1-4), \"Medium\" (5-7), or \"High\" (8-10)       |\n",
        "| is_recid   |  Indicates if the defendant recidivated. It can be 0, 1, or -1      |\n",
        "| two_year_recid   |  Indicates if the defendant recidivated within two years of COMPAS assessment      |\n",
        "| c_jail_in   |   Date the defendant was in jail      |\n",
        "| c_jail_out  |   Date when the defendant was released from jail     |\n",
        "\n",
        "\\\n",
        "Plot the distribution of age, race, and sex in the imported data (```df_compas```):"
      ],
      "metadata": {
        "id": "tb0PAyllt_5m"
      }
    },
    {
      "cell_type": "code",
      "source": [
        "#@title Preprocess Data\n",
        "#@markdown ProPublica implemented a few pre-processing steps. First, they generated a subset of the data with a few variables of interest. Here, we select even fewer variables, keeping only those that we will use in this notebook.\n",
        "cols_to_keep = [\"id\", \"age\", \"c_charge_degree\", \"race\", \"age_cat\", \"score_text\",\n",
        "                \"sex\", \"priors_count\", \"days_b_screening_arrest\",\n",
        "                \"decile_score\", \"is_recid\", \"two_year_recid\"]\n",
        "\n",
        "df_selected = df_compas[cols_to_keep].copy()\n",
        "\n",
        "print(\"Shape: \", df_selected.shape)\n",
        "df_selected.head()"
      ],
      "metadata": {
        "id": "AfIv2qUp7m7X",
        "outputId": "913986f9-9254-4af4-a4f0-3f06cfdb0e37",
        "colab": {
          "base_uri": "https://localhost:8080/",
          "height": 223
        }
      },
      "execution_count": null,
      "outputs": [
        {
          "output_type": "stream",
          "name": "stdout",
          "text": [
            "Shape:  (7214, 12)\n"
          ]
        },
        {
          "output_type": "execute_result",
          "data": {
            "text/plain": [
              "   id  age c_charge_degree              race          age_cat score_text  \\\n",
              "0   1   69               F             Other  Greater than 45        Low   \n",
              "1   3   34               F  African-American          25 - 45        Low   \n",
              "2   4   24               F  African-American     Less than 25        Low   \n",
              "3   5   23               F  African-American     Less than 25       High   \n",
              "4   6   43               F             Other          25 - 45        Low   \n",
              "\n",
              "    sex  priors_count  days_b_screening_arrest  decile_score  is_recid  \\\n",
              "0  Male             0                     -1.0             1         0   \n",
              "1  Male             0                     -1.0             3         1   \n",
              "2  Male             4                     -1.0             4         1   \n",
              "3  Male             1                      NaN             8         0   \n",
              "4  Male             2                      NaN             1         0   \n",
              "\n",
              "   two_year_recid  \n",
              "0               0  \n",
              "1               1  \n",
              "2               1  \n",
              "3               0  \n",
              "4               0  "
            ],
            "text/html": [
              "\n",
              "  <div id=\"df-b49e554f-a056-4659-aed7-1449bf724402\" class=\"colab-df-container\">\n",
              "    <div>\n",
              "<style scoped>\n",
              "    .dataframe tbody tr th:only-of-type {\n",
              "        vertical-align: middle;\n",
              "    }\n",
              "\n",
              "    .dataframe tbody tr th {\n",
              "        vertical-align: top;\n",
              "    }\n",
              "\n",
              "    .dataframe thead th {\n",
              "        text-align: right;\n",
              "    }\n",
              "</style>\n",
              "<table border=\"1\" class=\"dataframe\">\n",
              "  <thead>\n",
              "    <tr style=\"text-align: right;\">\n",
              "      <th></th>\n",
              "      <th>id</th>\n",
              "      <th>age</th>\n",
              "      <th>c_charge_degree</th>\n",
              "      <th>race</th>\n",
              "      <th>age_cat</th>\n",
              "      <th>score_text</th>\n",
              "      <th>sex</th>\n",
              "      <th>priors_count</th>\n",
              "      <th>days_b_screening_arrest</th>\n",
              "      <th>decile_score</th>\n",
              "      <th>is_recid</th>\n",
              "      <th>two_year_recid</th>\n",
              "    </tr>\n",
              "  </thead>\n",
              "  <tbody>\n",
              "    <tr>\n",
              "      <th>0</th>\n",
              "      <td>1</td>\n",
              "      <td>69</td>\n",
              "      <td>F</td>\n",
              "      <td>Other</td>\n",
              "      <td>Greater than 45</td>\n",
              "      <td>Low</td>\n",
              "      <td>Male</td>\n",
              "      <td>0</td>\n",
              "      <td>-1.0</td>\n",
              "      <td>1</td>\n",
              "      <td>0</td>\n",
              "      <td>0</td>\n",
              "    </tr>\n",
              "    <tr>\n",
              "      <th>1</th>\n",
              "      <td>3</td>\n",
              "      <td>34</td>\n",
              "      <td>F</td>\n",
              "      <td>African-American</td>\n",
              "      <td>25 - 45</td>\n",
              "      <td>Low</td>\n",
              "      <td>Male</td>\n",
              "      <td>0</td>\n",
              "      <td>-1.0</td>\n",
              "      <td>3</td>\n",
              "      <td>1</td>\n",
              "      <td>1</td>\n",
              "    </tr>\n",
              "    <tr>\n",
              "      <th>2</th>\n",
              "      <td>4</td>\n",
              "      <td>24</td>\n",
              "      <td>F</td>\n",
              "      <td>African-American</td>\n",
              "      <td>Less than 25</td>\n",
              "      <td>Low</td>\n",
              "      <td>Male</td>\n",
              "      <td>4</td>\n",
              "      <td>-1.0</td>\n",
              "      <td>4</td>\n",
              "      <td>1</td>\n",
              "      <td>1</td>\n",
              "    </tr>\n",
              "    <tr>\n",
              "      <th>3</th>\n",
              "      <td>5</td>\n",
              "      <td>23</td>\n",
              "      <td>F</td>\n",
              "      <td>African-American</td>\n",
              "      <td>Less than 25</td>\n",
              "      <td>High</td>\n",
              "      <td>Male</td>\n",
              "      <td>1</td>\n",
              "      <td>NaN</td>\n",
              "      <td>8</td>\n",
              "      <td>0</td>\n",
              "      <td>0</td>\n",
              "    </tr>\n",
              "    <tr>\n",
              "      <th>4</th>\n",
              "      <td>6</td>\n",
              "      <td>43</td>\n",
              "      <td>F</td>\n",
              "      <td>Other</td>\n",
              "      <td>25 - 45</td>\n",
              "      <td>Low</td>\n",
              "      <td>Male</td>\n",
              "      <td>2</td>\n",
              "      <td>NaN</td>\n",
              "      <td>1</td>\n",
              "      <td>0</td>\n",
              "      <td>0</td>\n",
              "    </tr>\n",
              "  </tbody>\n",
              "</table>\n",
              "</div>\n",
              "    <div class=\"colab-df-buttons\">\n",
              "\n",
              "  <div class=\"colab-df-container\">\n",
              "    <button class=\"colab-df-convert\" onclick=\"convertToInteractive('df-b49e554f-a056-4659-aed7-1449bf724402')\"\n",
              "            title=\"Convert this dataframe to an interactive table.\"\n",
              "            style=\"display:none;\">\n",
              "\n",
              "  <svg xmlns=\"http://www.w3.org/2000/svg\" height=\"24px\" viewBox=\"0 -960 960 960\">\n",
              "    <path d=\"M120-120v-720h720v720H120Zm60-500h600v-160H180v160Zm220 220h160v-160H400v160Zm0 220h160v-160H400v160ZM180-400h160v-160H180v160Zm440 0h160v-160H620v160ZM180-180h160v-160H180v160Zm440 0h160v-160H620v160Z\"/>\n",
              "  </svg>\n",
              "    </button>\n",
              "\n",
              "  <style>\n",
              "    .colab-df-container {\n",
              "      display:flex;\n",
              "      gap: 12px;\n",
              "    }\n",
              "\n",
              "    .colab-df-convert {\n",
              "      background-color: #E8F0FE;\n",
              "      border: none;\n",
              "      border-radius: 50%;\n",
              "      cursor: pointer;\n",
              "      display: none;\n",
              "      fill: #1967D2;\n",
              "      height: 32px;\n",
              "      padding: 0 0 0 0;\n",
              "      width: 32px;\n",
              "    }\n",
              "\n",
              "    .colab-df-convert:hover {\n",
              "      background-color: #E2EBFA;\n",
              "      box-shadow: 0px 1px 2px rgba(60, 64, 67, 0.3), 0px 1px 3px 1px rgba(60, 64, 67, 0.15);\n",
              "      fill: #174EA6;\n",
              "    }\n",
              "\n",
              "    .colab-df-buttons div {\n",
              "      margin-bottom: 4px;\n",
              "    }\n",
              "\n",
              "    [theme=dark] .colab-df-convert {\n",
              "      background-color: #3B4455;\n",
              "      fill: #D2E3FC;\n",
              "    }\n",
              "\n",
              "    [theme=dark] .colab-df-convert:hover {\n",
              "      background-color: #434B5C;\n",
              "      box-shadow: 0px 1px 3px 1px rgba(0, 0, 0, 0.15);\n",
              "      filter: drop-shadow(0px 1px 2px rgba(0, 0, 0, 0.3));\n",
              "      fill: #FFFFFF;\n",
              "    }\n",
              "  </style>\n",
              "\n",
              "    <script>\n",
              "      const buttonEl =\n",
              "        document.querySelector('#df-b49e554f-a056-4659-aed7-1449bf724402 button.colab-df-convert');\n",
              "      buttonEl.style.display =\n",
              "        google.colab.kernel.accessAllowed ? 'block' : 'none';\n",
              "\n",
              "      async function convertToInteractive(key) {\n",
              "        const element = document.querySelector('#df-b49e554f-a056-4659-aed7-1449bf724402');\n",
              "        const dataTable =\n",
              "          await google.colab.kernel.invokeFunction('convertToInteractive',\n",
              "                                                    [key], {});\n",
              "        if (!dataTable) return;\n",
              "\n",
              "        const docLinkHtml = 'Like what you see? Visit the ' +\n",
              "          '<a target=\"_blank\" href=https://colab.research.google.com/notebooks/data_table.ipynb>data table notebook</a>'\n",
              "          + ' to learn more about interactive tables.';\n",
              "        element.innerHTML = '';\n",
              "        dataTable['output_type'] = 'display_data';\n",
              "        await google.colab.output.renderOutput(dataTable, element);\n",
              "        const docLink = document.createElement('div');\n",
              "        docLink.innerHTML = docLinkHtml;\n",
              "        element.appendChild(docLink);\n",
              "      }\n",
              "    </script>\n",
              "  </div>\n",
              "\n",
              "\n",
              "<div id=\"df-ec031e85-728b-471f-bce4-f9c0438fa605\">\n",
              "  <button class=\"colab-df-quickchart\" onclick=\"quickchart('df-ec031e85-728b-471f-bce4-f9c0438fa605')\"\n",
              "            title=\"Suggest charts\"\n",
              "            style=\"display:none;\">\n",
              "\n",
              "<svg xmlns=\"http://www.w3.org/2000/svg\" height=\"24px\"viewBox=\"0 0 24 24\"\n",
              "     width=\"24px\">\n",
              "    <g>\n",
              "        <path d=\"M19 3H5c-1.1 0-2 .9-2 2v14c0 1.1.9 2 2 2h14c1.1 0 2-.9 2-2V5c0-1.1-.9-2-2-2zM9 17H7v-7h2v7zm4 0h-2V7h2v10zm4 0h-2v-4h2v4z\"/>\n",
              "    </g>\n",
              "</svg>\n",
              "  </button>\n",
              "\n",
              "<style>\n",
              "  .colab-df-quickchart {\n",
              "      --bg-color: #E8F0FE;\n",
              "      --fill-color: #1967D2;\n",
              "      --hover-bg-color: #E2EBFA;\n",
              "      --hover-fill-color: #174EA6;\n",
              "      --disabled-fill-color: #AAA;\n",
              "      --disabled-bg-color: #DDD;\n",
              "  }\n",
              "\n",
              "  [theme=dark] .colab-df-quickchart {\n",
              "      --bg-color: #3B4455;\n",
              "      --fill-color: #D2E3FC;\n",
              "      --hover-bg-color: #434B5C;\n",
              "      --hover-fill-color: #FFFFFF;\n",
              "      --disabled-bg-color: #3B4455;\n",
              "      --disabled-fill-color: #666;\n",
              "  }\n",
              "\n",
              "  .colab-df-quickchart {\n",
              "    background-color: var(--bg-color);\n",
              "    border: none;\n",
              "    border-radius: 50%;\n",
              "    cursor: pointer;\n",
              "    display: none;\n",
              "    fill: var(--fill-color);\n",
              "    height: 32px;\n",
              "    padding: 0;\n",
              "    width: 32px;\n",
              "  }\n",
              "\n",
              "  .colab-df-quickchart:hover {\n",
              "    background-color: var(--hover-bg-color);\n",
              "    box-shadow: 0 1px 2px rgba(60, 64, 67, 0.3), 0 1px 3px 1px rgba(60, 64, 67, 0.15);\n",
              "    fill: var(--button-hover-fill-color);\n",
              "  }\n",
              "\n",
              "  .colab-df-quickchart-complete:disabled,\n",
              "  .colab-df-quickchart-complete:disabled:hover {\n",
              "    background-color: var(--disabled-bg-color);\n",
              "    fill: var(--disabled-fill-color);\n",
              "    box-shadow: none;\n",
              "  }\n",
              "\n",
              "  .colab-df-spinner {\n",
              "    border: 2px solid var(--fill-color);\n",
              "    border-color: transparent;\n",
              "    border-bottom-color: var(--fill-color);\n",
              "    animation:\n",
              "      spin 1s steps(1) infinite;\n",
              "  }\n",
              "\n",
              "  @keyframes spin {\n",
              "    0% {\n",
              "      border-color: transparent;\n",
              "      border-bottom-color: var(--fill-color);\n",
              "      border-left-color: var(--fill-color);\n",
              "    }\n",
              "    20% {\n",
              "      border-color: transparent;\n",
              "      border-left-color: var(--fill-color);\n",
              "      border-top-color: var(--fill-color);\n",
              "    }\n",
              "    30% {\n",
              "      border-color: transparent;\n",
              "      border-left-color: var(--fill-color);\n",
              "      border-top-color: var(--fill-color);\n",
              "      border-right-color: var(--fill-color);\n",
              "    }\n",
              "    40% {\n",
              "      border-color: transparent;\n",
              "      border-right-color: var(--fill-color);\n",
              "      border-top-color: var(--fill-color);\n",
              "    }\n",
              "    60% {\n",
              "      border-color: transparent;\n",
              "      border-right-color: var(--fill-color);\n",
              "    }\n",
              "    80% {\n",
              "      border-color: transparent;\n",
              "      border-right-color: var(--fill-color);\n",
              "      border-bottom-color: var(--fill-color);\n",
              "    }\n",
              "    90% {\n",
              "      border-color: transparent;\n",
              "      border-bottom-color: var(--fill-color);\n",
              "    }\n",
              "  }\n",
              "</style>\n",
              "\n",
              "  <script>\n",
              "    async function quickchart(key) {\n",
              "      const quickchartButtonEl =\n",
              "        document.querySelector('#' + key + ' button');\n",
              "      quickchartButtonEl.disabled = true;  // To prevent multiple clicks.\n",
              "      quickchartButtonEl.classList.add('colab-df-spinner');\n",
              "      try {\n",
              "        const charts = await google.colab.kernel.invokeFunction(\n",
              "            'suggestCharts', [key], {});\n",
              "      } catch (error) {\n",
              "        console.error('Error during call to suggestCharts:', error);\n",
              "      }\n",
              "      quickchartButtonEl.classList.remove('colab-df-spinner');\n",
              "      quickchartButtonEl.classList.add('colab-df-quickchart-complete');\n",
              "    }\n",
              "    (() => {\n",
              "      let quickchartButtonEl =\n",
              "        document.querySelector('#df-ec031e85-728b-471f-bce4-f9c0438fa605 button');\n",
              "      quickchartButtonEl.style.display =\n",
              "        google.colab.kernel.accessAllowed ? 'block' : 'none';\n",
              "    })();\n",
              "  </script>\n",
              "</div>\n",
              "\n",
              "    </div>\n",
              "  </div>\n"
            ],
            "application/vnd.google.colaboratory.intrinsic+json": {
              "type": "dataframe",
              "variable_name": "df_selected",
              "summary": "{\n  \"name\": \"df_selected\",\n  \"rows\": 7214,\n  \"fields\": [\n    {\n      \"column\": \"id\",\n      \"properties\": {\n        \"dtype\": \"number\",\n        \"std\": 3175,\n        \"min\": 1,\n        \"max\": 11001,\n        \"num_unique_values\": 7214,\n        \"samples\": [\n          452,\n          573,\n          4952\n        ],\n        \"semantic_type\": \"\",\n        \"description\": \"\"\n      }\n    },\n    {\n      \"column\": \"age\",\n      \"properties\": {\n        \"dtype\": \"number\",\n        \"std\": 11,\n        \"min\": 18,\n        \"max\": 96,\n        \"num_unique_values\": 65,\n        \"samples\": [\n          83,\n          18,\n          69\n        ],\n        \"semantic_type\": \"\",\n        \"description\": \"\"\n      }\n    },\n    {\n      \"column\": \"c_charge_degree\",\n      \"properties\": {\n        \"dtype\": \"category\",\n        \"num_unique_values\": 2,\n        \"samples\": [\n          \"M\",\n          \"F\"\n        ],\n        \"semantic_type\": \"\",\n        \"description\": \"\"\n      }\n    },\n    {\n      \"column\": \"race\",\n      \"properties\": {\n        \"dtype\": \"category\",\n        \"num_unique_values\": 6,\n        \"samples\": [\n          \"Other\",\n          \"African-American\"\n        ],\n        \"semantic_type\": \"\",\n        \"description\": \"\"\n      }\n    },\n    {\n      \"column\": \"age_cat\",\n      \"properties\": {\n        \"dtype\": \"category\",\n        \"num_unique_values\": 3,\n        \"samples\": [\n          \"Greater than 45\",\n          \"25 - 45\"\n        ],\n        \"semantic_type\": \"\",\n        \"description\": \"\"\n      }\n    },\n    {\n      \"column\": \"score_text\",\n      \"properties\": {\n        \"dtype\": \"category\",\n        \"num_unique_values\": 3,\n        \"samples\": [\n          \"Low\",\n          \"High\"\n        ],\n        \"semantic_type\": \"\",\n        \"description\": \"\"\n      }\n    },\n    {\n      \"column\": \"sex\",\n      \"properties\": {\n        \"dtype\": \"category\",\n        \"num_unique_values\": 2,\n        \"samples\": [\n          \"Female\",\n          \"Male\"\n        ],\n        \"semantic_type\": \"\",\n        \"description\": \"\"\n      }\n    },\n    {\n      \"column\": \"priors_count\",\n      \"properties\": {\n        \"dtype\": \"number\",\n        \"std\": 4,\n        \"min\": 0,\n        \"max\": 38,\n        \"num_unique_values\": 37,\n        \"samples\": [\n          28,\n          20\n        ],\n        \"semantic_type\": \"\",\n        \"description\": \"\"\n      }\n    },\n    {\n      \"column\": \"days_b_screening_arrest\",\n      \"properties\": {\n        \"dtype\": \"number\",\n        \"std\": 75.80950476450238,\n        \"min\": -414.0,\n        \"max\": 1057.0,\n        \"num_unique_values\": 423,\n        \"samples\": [\n          -95.0,\n          126.0\n        ],\n        \"semantic_type\": \"\",\n        \"description\": \"\"\n      }\n    },\n    {\n      \"column\": \"decile_score\",\n      \"properties\": {\n        \"dtype\": \"number\",\n        \"std\": 2,\n        \"min\": 1,\n        \"max\": 10,\n        \"num_unique_values\": 10,\n        \"samples\": [\n          2,\n          3\n        ],\n        \"semantic_type\": \"\",\n        \"description\": \"\"\n      }\n    },\n    {\n      \"column\": \"is_recid\",\n      \"properties\": {\n        \"dtype\": \"number\",\n        \"std\": 0,\n        \"min\": 0,\n        \"max\": 1,\n        \"num_unique_values\": 2,\n        \"samples\": [\n          1,\n          0\n        ],\n        \"semantic_type\": \"\",\n        \"description\": \"\"\n      }\n    },\n    {\n      \"column\": \"two_year_recid\",\n      \"properties\": {\n        \"dtype\": \"number\",\n        \"std\": 0,\n        \"min\": 0,\n        \"max\": 1,\n        \"num_unique_values\": 2,\n        \"samples\": [\n          1,\n          0\n        ],\n        \"semantic_type\": \"\",\n        \"description\": \"\"\n      }\n    }\n  ]\n}"
            }
          },
          "metadata": {},
          "execution_count": 4
        }
      ]
    },
    {
      "cell_type": "markdown",
      "source": [
        "Take a moment to get a feel for the variables and structure of the data. ProPublica filtered the above data by removing rows where:\n",
        "\n",
        "1. The COMPAS score is missing.\n",
        "1. The charge date of the defendant's COMPAS-scored crime was not within 30 days from the date of arrest. ProPublica assumed that the offense may not be correct in these cases.\n",
        "2. The recividist flag is \"-1\". In such cases, ProPublica could not find a COMPAS record at all.\n",
        "3. The charge is \"O\". These are ordinary traffic offenses and do not result in jail time.\n",
        "\n",
        "We implement these conditions here:"
      ],
      "metadata": {
        "id": "a3F8TiLE8GYQ"
      }
    },
    {
      "cell_type": "code",
      "source": [
        "df_analysis = df_selected[\n",
        "    (df_selected.score_text != \"N/A\") &\n",
        "    (df_selected.days_b_screening_arrest <= 30) &\n",
        "    (df_selected.days_b_screening_arrest >= -30) &\n",
        "    (df_selected.is_recid != -1) &\n",
        "    (df_selected.c_charge_degree != \"O\")\n",
        "    ].copy()"
      ],
      "metadata": {
        "id": "IgLZVj4t8Hs1"
      },
      "execution_count": null,
      "outputs": []
    },
    {
      "cell_type": "markdown",
      "source": [
        "Note that ProPublica only included people who had recidivated within two years or had at least two years outside a correctional facility. This pre-processing step is \"baked in\" to the data that we imported from GitHub in this notebook.\n",
        "\n",
        "Check the dimensions (i.e. the number of variables and observations) of the imported (```df_compas```) and preprocessed (```df_analysis```) data:"
      ],
      "metadata": {
        "id": "VDd2g5pJ9RTA"
      }
    },
    {
      "cell_type": "markdown",
      "source": [
        "Take the additional step of making sure that the decile score (discussed below) is numeric:"
      ],
      "metadata": {
        "id": "h2ELF_Z59bKz"
      }
    },
    {
      "cell_type": "code",
      "source": [
        "df_analysis[\"decile_score\"] = pd.to_numeric(df_analysis[\"decile_score\"])"
      ],
      "metadata": {
        "id": "GA7u7d0e9n6K"
      },
      "execution_count": null,
      "outputs": []
    },
    {
      "cell_type": "markdown",
      "source": [
        "# Inspect Data Again"
      ],
      "metadata": {
        "id": "r1H7PvVI9uXT"
      }
    },
    {
      "cell_type": "markdown",
      "source": [
        "Re-inspect salient variables in the data after the preprocessing steps. Plot the distribution of age, race, and sex in the preprocessed data (```df_analysis```) and compare these distributions to the imported data (```df_compas```):"
      ],
      "metadata": {
        "id": "ho1CEymX9v2g"
      }
    },
    {
      "cell_type": "markdown",
      "source": [
        "Observe that we are iterating through the data analysis: import, inspect & profile, preprocess, and profile again. Generate a crosstab summarizing the number of observations by race and sex:"
      ],
      "metadata": {
        "id": "tCHpQrZk96CD"
      }
    },
    {
      "cell_type": "code",
      "source": [
        "#@title Exploratory Analysis\n",
        "#@markdown Let's turn our focus to the primary variable of interest: the COMPAS recidivism score. In this exploratory analysis, we are interested in the variable named \"decile_score\".\n",
        "\n",
        "#@markdown The ProPublica analysis notes: \"Judges are often presented with two sets of scores from the COMPAS system: one that classifies people into high, medium or low risk, and a corresponding decile score.\"\n",
        "\n",
        "#@markdown Plot the distribution of decile score for males and for females. To what extent do these distributions differ?\n",
        "\n",
        "#plot score decile by sex\n",
        "df_female = df_analysis[(df_analysis.sex == \"Female\")].copy()\n",
        "df_male   = df_analysis[(df_analysis.sex == \"Male\")].copy()\n",
        "\n",
        "fig = plt.figure(figsize = (12, 6))\n",
        "fig.add_subplot(121)\n",
        "\n",
        "plt.hist(df_female[\"decile_score\"], ec = \"white\",\n",
        "         weights = np.ones(len(df_female[\"decile_score\"])) /\n",
        "         len(df_female[\"decile_score\"]))\n",
        "plt.xlabel(\"Decile Score (0-10)\")\n",
        "plt.ylabel(\"Percent of Cases\")\n",
        "plt.title(\"Female Defendant's Decile Scores\")\n",
        "plt.ylim([0, 0.25])\n",
        "\n",
        "fig.add_subplot(122)\n",
        "plt.hist(df_male[\"decile_score\"], ec = \"white\",\n",
        "         weights = np.ones(len(df_male[\"decile_score\"])) /\n",
        "         len(df_male[\"decile_score\"]))\n",
        "plt.xlabel(\"Decile Score (0-10)\")\n",
        "plt.ylabel(\"Percent of Cases\")\n",
        "plt.title(\"Male Defendant's Decile Scores\")\n",
        "plt.ylim([0, 0.25])\n",
        "\n",
        "plt.show()"
      ],
      "metadata": {
        "id": "0WF0HniC-ESY",
        "colab": {
          "base_uri": "https://localhost:8080/",
          "height": 564
        },
        "outputId": "d5f46df9-f8c9-417a-bd8f-4a7a1e47b5a9"
      },
      "execution_count": null,
      "outputs": [
        {
          "output_type": "display_data",
          "data": {
            "text/plain": [
              "<Figure size 1200x600 with 2 Axes>"
            ],
            "image/png": "[encoded data removed]"
          },
          "metadata": {}
        }
      ]
    },
    {
      "cell_type": "markdown",
      "source": [
        "What about race? Repeat the above plots for Black defendants and White defendants:"
      ],
      "metadata": {
        "id": "8iRAZiZl-OUD"
      }
    },
    {
      "cell_type": "markdown",
      "source": [
        "Plot the distribution of COMPAS-assigned \"risk labels\" (the variable is named \"score_text\") for Black defendants and White defendants:"
      ],
      "metadata": {
        "id": "PH44v58f-v2p"
      }
    },
    {
      "cell_type": "markdown",
      "source": [
        "# Bias in COMPAS"
      ],
      "metadata": {
        "id": "kzxwJg1uBKKj"
      }
    },
    {
      "cell_type": "markdown",
      "source": [
        "ProPublica focused on racial bias in the COMPAS algorithm. In general terms, ProPublica analyzed (i) how the *risk scores* vary by race and (ii) the extent to which the *risk labels* assigned to defendants matches up with their observed recidivism and how this varies by race. We will (approximately) reproduce this analysis below."
      ],
      "metadata": {
        "id": "To2wD_u-BN0T"
      }
    },
    {
      "cell_type": "code",
      "source": [
        "#@title Preprocess Data for Logistic Regression\n",
        "#@markdown ProPublica used a logistic regression model to analyze variation in the risk scores by race. We will prepare the data by one-hot encoding the categorical variables.\n",
        "print(df_analysis.dtypes)"
      ],
      "metadata": {
        "id": "KDD8HF5CBSch",
        "colab": {
          "base_uri": "https://localhost:8080/"
        },
        "outputId": "8eceee8c-3f4e-4539-9079-82579852f918"
      },
      "execution_count": null,
      "outputs": [
        {
          "output_type": "stream",
          "name": "stdout",
          "text": [
            "id                           int64\n",
            "age                          int64\n",
            "c_charge_degree             object\n",
            "race                        object\n",
            "age_cat                     object\n",
            "score_text                  object\n",
            "sex                         object\n",
            "priors_count                 int64\n",
            "days_b_screening_arrest    float64\n",
            "decile_score                 int64\n",
            "is_recid                     int64\n",
            "two_year_recid               int64\n",
            "dtype: object\n"
          ]
        }
      ]
    },
    {
      "cell_type": "code",
      "source": [
        "#@markdown\n",
        "for i, col_type in enumerate(df_analysis.dtypes):\n",
        "    if col_type == \"object\":\n",
        "        print(\"\\nVariable {} takes the values: {}\".format(\n",
        "            df_analysis.columns[i],\n",
        "            df_analysis[df_analysis.columns[i]].unique()))"
      ],
      "metadata": {
        "id": "HxDbDD0MBV3u",
        "colab": {
          "base_uri": "https://localhost:8080/"
        },
        "outputId": "c432cfab-3bad-48e9-d937-d9f8d86ddba8"
      },
      "execution_count": null,
      "outputs": [
        {
          "output_type": "stream",
          "name": "stdout",
          "text": [
            "\n",
            "Variable c_charge_degree takes the values: ['F' 'M']\n",
            "\n",
            "Variable race takes the values: ['Other' 'African-American' 'Caucasian' 'Hispanic' 'Asian'\n",
            " 'Native American']\n",
            "\n",
            "Variable age_cat takes the values: ['Greater than 45' '25 - 45' 'Less than 25']\n",
            "\n",
            "Variable score_text takes the values: ['Low' 'Medium' 'High']\n",
            "\n",
            "Variable sex takes the values: ['Male' 'Female']\n"
          ]
        }
      ]
    },
    {
      "cell_type": "code",
      "source": [
        "#@markdown\n",
        "df_logistic = df_analysis.copy()\n",
        "\n",
        "# one-hot encoding\n",
        "df_logistic = pd.get_dummies(df_logistic,\n",
        "                             columns = [\"c_charge_degree\", \"race\",\n",
        "                                        \"age_cat\", \"sex\"])\n",
        "\n",
        "# mutate score_text to binary variable where low = {low}\n",
        "# and high = {medium, high}\n",
        "df_logistic[\"score_binary\"] = np.where(df_logistic[\"score_text\"] != \"Low\",\n",
        "                                       \"High\", \"Low\")\n",
        "df_logistic[\"score_binary\"] = df_logistic[\"score_binary\"].astype('category')\n",
        "\n",
        "# rename the columns to be more instructive and consistent with statsmodel\n",
        "# requirements for variable names\n",
        "df_logistic.columns = df_logistic.columns.str.replace(' ', '_')\n",
        "df_logistic.columns = df_logistic.columns.str.replace('-', '_')\n",
        "\n",
        "renamed_cols = {'age_cat_25___45':'age_cat_25_to_45',\n",
        "                'c_charge_degree_F':'Felony',\n",
        "                'c_charge_degree_M':'Misdemeanor'}\n",
        "\n",
        "df_logistic = df_logistic.rename(columns = renamed_cols)"
      ],
      "metadata": {
        "id": "hqzoiQ7qB0QF"
      },
      "execution_count": null,
      "outputs": []
    },
    {
      "cell_type": "markdown",
      "source": [
        "Check that recoding resulted in the desired data structure:"
      ],
      "metadata": {
        "id": "jyQbDncrB9FY"
      }
    },
    {
      "cell_type": "code",
      "source": [
        "#@markdown\n",
        "df_logistic.head()"
      ],
      "metadata": {
        "id": "d0uqLB1bB-iZ",
        "colab": {
          "base_uri": "https://localhost:8080/",
          "height": 255
        },
        "outputId": "608aed12-9048-4438-b8e5-87ecaf1af1be"
      },
      "execution_count": null,
      "outputs": [
        {
          "output_type": "execute_result",
          "data": {
            "text/plain": [
              "   id  age score_text  priors_count  days_b_screening_arrest  decile_score  \\\n",
              "0   1   69        Low             0                     -1.0             1   \n",
              "1   3   34        Low             0                     -1.0             3   \n",
              "2   4   24        Low             4                     -1.0             4   \n",
              "5   7   44        Low             0                      0.0             1   \n",
              "6   8   41     Medium            14                     -1.0             6   \n",
              "\n",
              "   is_recid  two_year_recid  Felony  Misdemeanor  ...  race_Caucasian  \\\n",
              "0         0               0    True        False  ...           False   \n",
              "1         1               1    True        False  ...           False   \n",
              "2         1               1    True        False  ...           False   \n",
              "5         0               0   False         True  ...           False   \n",
              "6         1               1    True        False  ...            True   \n",
              "\n",
              "   race_Hispanic  race_Native_American  race_Other  age_cat_25_to_45  \\\n",
              "0          False                 False        True             False   \n",
              "1          False                 False       False              True   \n",
              "2          False                 False       False             False   \n",
              "5          False                 False        True              True   \n",
              "6          False                 False       False              True   \n",
              "\n",
              "   age_cat_Greater_than_45  age_cat_Less_than_25  sex_Female  sex_Male  \\\n",
              "0                     True                 False       False      True   \n",
              "1                    False                 False       False      True   \n",
              "2                    False                  True       False      True   \n",
              "5                    False                 False       False      True   \n",
              "6                    False                 False       False      True   \n",
              "\n",
              "   score_binary  \n",
              "0           Low  \n",
              "1           Low  \n",
              "2           Low  \n",
              "5           Low  \n",
              "6          High  \n",
              "\n",
              "[5 rows x 22 columns]"
            ],
            "text/html": [
              "\n",
              "  <div id=\"df-b09a9616-a310-43d2-8013-133f51c91687\" class=\"colab-df-container\">\n",
              "    <div>\n",
              "<style scoped>\n",
              "    .dataframe tbody tr th:only-of-type {\n",
              "        vertical-align: middle;\n",
              "    }\n",
              "\n",
              "    .dataframe tbody tr th {\n",
              "        vertical-align: top;\n",
              "    }\n",
              "\n",
              "    .dataframe thead th {\n",
              "        text-align: right;\n",
              "    }\n",
              "</style>\n",
              "<table border=\"1\" class=\"dataframe\">\n",
              "  <thead>\n",
              "    <tr style=\"text-align: right;\">\n",
              "      <th></th>\n",
              "      <th>id</th>\n",
              "      <th>age</th>\n",
              "      <th>score_text</th>\n",
              "      <th>priors_count</th>\n",
              "      <th>days_b_screening_arrest</th>\n",
              "      <th>decile_score</th>\n",
              "      <th>is_recid</th>\n",
              "      <th>two_year_recid</th>\n",
              "      <th>Felony</th>\n",
              "      <th>Misdemeanor</th>\n",
              "      <th>...</th>\n",
              "      <th>race_Caucasian</th>\n",
              "      <th>race_Hispanic</th>\n",
              "      <th>race_Native_American</th>\n",
              "      <th>race_Other</th>\n",
              "      <th>age_cat_25_to_45</th>\n",
              "      <th>age_cat_Greater_than_45</th>\n",
              "      <th>age_cat_Less_than_25</th>\n",
              "      <th>sex_Female</th>\n",
              "      <th>sex_Male</th>\n",
              "      <th>score_binary</th>\n",
              "    </tr>\n",
              "  </thead>\n",
              "  <tbody>\n",
              "    <tr>\n",
              "      <th>0</th>\n",
              "      <td>1</td>\n",
              "      <td>69</td>\n",
              "      <td>Low</td>\n",
              "      <td>0</td>\n",
              "      <td>-1.0</td>\n",
              "      <td>1</td>\n",
              "      <td>0</td>\n",
              "      <td>0</td>\n",
              "      <td>True</td>\n",
              "      <td>False</td>\n",
              "      <td>...</td>\n",
              "      <td>False</td>\n",
              "      <td>False</td>\n",
              "      <td>False</td>\n",
              "      <td>True</td>\n",
              "      <td>False</td>\n",
              "      <td>True</td>\n",
              "      <td>False</td>\n",
              "      <td>False</td>\n",
              "      <td>True</td>\n",
              "      <td>Low</td>\n",
              "    </tr>\n",
              "    <tr>\n",
              "      <th>1</th>\n",
              "      <td>3</td>\n",
              "      <td>34</td>\n",
              "      <td>Low</td>\n",
              "      <td>0</td>\n",
              "      <td>-1.0</td>\n",
              "      <td>3</td>\n",
              "      <td>1</td>\n",
              "      <td>1</td>\n",
              "      <td>True</td>\n",
              "      <td>False</td>\n",
              "      <td>...</td>\n",
              "      <td>False</td>\n",
              "      <td>False</td>\n",
              "      <td>False</td>\n",
              "      <td>False</td>\n",
              "      <td>True</td>\n",
              "      <td>False</td>\n",
              "      <td>False</td>\n",
              "      <td>False</td>\n",
              "      <td>True</td>\n",
              "      <td>Low</td>\n",
              "    </tr>\n",
              "    <tr>\n",
              "      <th>2</th>\n",
              "      <td>4</td>\n",
              "      <td>24</td>\n",
              "      <td>Low</td>\n",
              "      <td>4</td>\n",
              "      <td>-1.0</td>\n",
              "      <td>4</td>\n",
              "      <td>1</td>\n",
              "      <td>1</td>\n",
              "      <td>True</td>\n",
              "      <td>False</td>\n",
              "      <td>...</td>\n",
              "      <td>False</td>\n",
              "      <td>False</td>\n",
              "      <td>False</td>\n",
              "      <td>False</td>\n",
              "      <td>False</td>\n",
              "      <td>False</td>\n",
              "      <td>True</td>\n",
              "      <td>False</td>\n",
              "      <td>True</td>\n",
              "      <td>Low</td>\n",
              "    </tr>\n",
              "    <tr>\n",
              "      <th>5</th>\n",
              "      <td>7</td>\n",
              "      <td>44</td>\n",
              "      <td>Low</td>\n",
              "      <td>0</td>\n",
              "      <td>0.0</td>\n",
              "      <td>1</td>\n",
              "      <td>0</td>\n",
              "      <td>0</td>\n",
              "      <td>False</td>\n",
              "      <td>True</td>\n",
              "      <td>...</td>\n",
              "      <td>False</td>\n",
              "      <td>False</td>\n",
              "      <td>False</td>\n",
              "      <td>True</td>\n",
              "      <td>True</td>\n",
              "      <td>False</td>\n",
              "      <td>False</td>\n",
              "      <td>False</td>\n",
              "      <td>True</td>\n",
              "      <td>Low</td>\n",
              "    </tr>\n",
              "    <tr>\n",
              "      <th>6</th>\n",
              "      <td>8</td>\n",
              "      <td>41</td>\n",
              "      <td>Medium</td>\n",
              "      <td>14</td>\n",
              "      <td>-1.0</td>\n",
              "      <td>6</td>\n",
              "      <td>1</td>\n",
              "      <td>1</td>\n",
              "      <td>True</td>\n",
              "      <td>False</td>\n",
              "      <td>...</td>\n",
              "      <td>True</td>\n",
              "      <td>False</td>\n",
              "      <td>False</td>\n",
              "      <td>False</td>\n",
              "      <td>True</td>\n",
              "      <td>False</td>\n",
              "      <td>False</td>\n",
              "      <td>False</td>\n",
              "      <td>True</td>\n",
              "      <td>High</td>\n",
              "    </tr>\n",
              "  </tbody>\n",
              "</table>\n",
              "<p>5 rows × 22 columns</p>\n",
              "</div>\n",
              "    <div class=\"colab-df-buttons\">\n",
              "\n",
              "  <div class=\"colab-df-container\">\n",
              "    <button class=\"colab-df-convert\" onclick=\"convertToInteractive('df-b09a9616-a310-43d2-8013-133f51c91687')\"\n",
              "            title=\"Convert this dataframe to an interactive table.\"\n",
              "            style=\"display:none;\">\n",
              "\n",
              "  <svg xmlns=\"http://www.w3.org/2000/svg\" height=\"24px\" viewBox=\"0 -960 960 960\">\n",
              "    <path d=\"M120-120v-720h720v720H120Zm60-500h600v-160H180v160Zm220 220h160v-160H400v160Zm0 220h160v-160H400v160ZM180-400h160v-160H180v160Zm440 0h160v-160H620v160ZM180-180h160v-160H180v160Zm440 0h160v-160H620v160Z\"/>\n",
              "  </svg>\n",
              "    </button>\n",
              "\n",
              "  <style>\n",
              "    .colab-df-container {\n",
              "      display:flex;\n",
              "      gap: 12px;\n",
              "    }\n",
              "\n",
              "    .colab-df-convert {\n",
              "      background-color: #E8F0FE;\n",
              "      border: none;\n",
              "      border-radius: 50%;\n",
              "      cursor: pointer;\n",
              "      display: none;\n",
              "      fill: #1967D2;\n",
              "      height: 32px;\n",
              "      padding: 0 0 0 0;\n",
              "      width: 32px;\n",
              "    }\n",
              "\n",
              "    .colab-df-convert:hover {\n",
              "      background-color: #E2EBFA;\n",
              "      box-shadow: 0px 1px 2px rgba(60, 64, 67, 0.3), 0px 1px 3px 1px rgba(60, 64, 67, 0.15);\n",
              "      fill: #174EA6;\n",
              "    }\n",
              "\n",
              "    .colab-df-buttons div {\n",
              "      margin-bottom: 4px;\n",
              "    }\n",
              "\n",
              "    [theme=dark] .colab-df-convert {\n",
              "      background-color: #3B4455;\n",
              "      fill: #D2E3FC;\n",
              "    }\n",
              "\n",
              "    [theme=dark] .colab-df-convert:hover {\n",
              "      background-color: #434B5C;\n",
              "      box-shadow: 0px 1px 3px 1px rgba(0, 0, 0, 0.15);\n",
              "      filter: drop-shadow(0px 1px 2px rgba(0, 0, 0, 0.3));\n",
              "      fill: #FFFFFF;\n",
              "    }\n",
              "  </style>\n",
              "\n",
              "    <script>\n",
              "      const buttonEl =\n",
              "        document.querySelector('#df-b09a9616-a310-43d2-8013-133f51c91687 button.colab-df-convert');\n",
              "      buttonEl.style.display =\n",
              "        google.colab.kernel.accessAllowed ? 'block' : 'none';\n",
              "\n",
              "      async function convertToInteractive(key) {\n",
              "        const element = document.querySelector('#df-b09a9616-a310-43d2-8013-133f51c91687');\n",
              "        const dataTable =\n",
              "          await google.colab.kernel.invokeFunction('convertToInteractive',\n",
              "                                                    [key], {});\n",
              "        if (!dataTable) return;\n",
              "\n",
              "        const docLinkHtml = 'Like what you see? Visit the ' +\n",
              "          '<a target=\"_blank\" href=https://colab.research.google.com/notebooks/data_table.ipynb>data table notebook</a>'\n",
              "          + ' to learn more about interactive tables.';\n",
              "        element.innerHTML = '';\n",
              "        dataTable['output_type'] = 'display_data';\n",
              "        await google.colab.output.renderOutput(dataTable, element);\n",
              "        const docLink = document.createElement('div');\n",
              "        docLink.innerHTML = docLinkHtml;\n",
              "        element.appendChild(docLink);\n",
              "      }\n",
              "    </script>\n",
              "  </div>\n",
              "\n",
              "\n",
              "<div id=\"df-eb03a344-9fca-4406-bce0-5a6e9d77c6c5\">\n",
              "  <button class=\"colab-df-quickchart\" onclick=\"quickchart('df-eb03a344-9fca-4406-bce0-5a6e9d77c6c5')\"\n",
              "            title=\"Suggest charts\"\n",
              "            style=\"display:none;\">\n",
              "\n",
              "<svg xmlns=\"http://www.w3.org/2000/svg\" height=\"24px\"viewBox=\"0 0 24 24\"\n",
              "     width=\"24px\">\n",
              "    <g>\n",
              "        <path d=\"M19 3H5c-1.1 0-2 .9-2 2v14c0 1.1.9 2 2 2h14c1.1 0 2-.9 2-2V5c0-1.1-.9-2-2-2zM9 17H7v-7h2v7zm4 0h-2V7h2v10zm4 0h-2v-4h2v4z\"/>\n",
              "    </g>\n",
              "</svg>\n",
              "  </button>\n",
              "\n",
              "<style>\n",
              "  .colab-df-quickchart {\n",
              "      --bg-color: #E8F0FE;\n",
              "      --fill-color: #1967D2;\n",
              "      --hover-bg-color: #E2EBFA;\n",
              "      --hover-fill-color: #174EA6;\n",
              "      --disabled-fill-color: #AAA;\n",
              "      --disabled-bg-color: #DDD;\n",
              "  }\n",
              "\n",
              "  [theme=dark] .colab-df-quickchart {\n",
              "      --bg-color: #3B4455;\n",
              "      --fill-color: #D2E3FC;\n",
              "      --hover-bg-color: #434B5C;\n",
              "      --hover-fill-color: #FFFFFF;\n",
              "      --disabled-bg-color: #3B4455;\n",
              "      --disabled-fill-color: #666;\n",
              "  }\n",
              "\n",
              "  .colab-df-quickchart {\n",
              "    background-color: var(--bg-color);\n",
              "    border: none;\n",
              "    border-radius: 50%;\n",
              "    cursor: pointer;\n",
              "    display: none;\n",
              "    fill: var(--fill-color);\n",
              "    height: 32px;\n",
              "    padding: 0;\n",
              "    width: 32px;\n",
              "  }\n",
              "\n",
              "  .colab-df-quickchart:hover {\n",
              "    background-color: var(--hover-bg-color);\n",
              "    box-shadow: 0 1px 2px rgba(60, 64, 67, 0.3), 0 1px 3px 1px rgba(60, 64, 67, 0.15);\n",
              "    fill: var(--button-hover-fill-color);\n",
              "  }\n",
              "\n",
              "  .colab-df-quickchart-complete:disabled,\n",
              "  .colab-df-quickchart-complete:disabled:hover {\n",
              "    background-color: var(--disabled-bg-color);\n",
              "    fill: var(--disabled-fill-color);\n",
              "    box-shadow: none;\n",
              "  }\n",
              "\n",
              "  .colab-df-spinner {\n",
              "    border: 2px solid var(--fill-color);\n",
              "    border-color: transparent;\n",
              "    border-bottom-color: var(--fill-color);\n",
              "    animation:\n",
              "      spin 1s steps(1) infinite;\n",
              "  }\n",
              "\n",
              "  @keyframes spin {\n",
              "    0% {\n",
              "      border-color: transparent;\n",
              "      border-bottom-color: var(--fill-color);\n",
              "      border-left-color: var(--fill-color);\n",
              "    }\n",
              "    20% {\n",
              "      border-color: transparent;\n",
              "      border-left-color: var(--fill-color);\n",
              "      border-top-color: var(--fill-color);\n",
              "    }\n",
              "    30% {\n",
              "      border-color: transparent;\n",
              "      border-left-color: var(--fill-color);\n",
              "      border-top-color: var(--fill-color);\n",
              "      border-right-color: var(--fill-color);\n",
              "    }\n",
              "    40% {\n",
              "      border-color: transparent;\n",
              "      border-right-color: var(--fill-color);\n",
              "      border-top-color: var(--fill-color);\n",
              "    }\n",
              "    60% {\n",
              "      border-color: transparent;\n",
              "      border-right-color: var(--fill-color);\n",
              "    }\n",
              "    80% {\n",
              "      border-color: transparent;\n",
              "      border-right-color: var(--fill-color);\n",
              "      border-bottom-color: var(--fill-color);\n",
              "    }\n",
              "    90% {\n",
              "      border-color: transparent;\n",
              "      border-bottom-color: var(--fill-color);\n",
              "    }\n",
              "  }\n",
              "</style>\n",
              "\n",
              "  <script>\n",
              "    async function quickchart(key) {\n",
              "      const quickchartButtonEl =\n",
              "        document.querySelector('#' + key + ' button');\n",
              "      quickchartButtonEl.disabled = true;  // To prevent multiple clicks.\n",
              "      quickchartButtonEl.classList.add('colab-df-spinner');\n",
              "      try {\n",
              "        const charts = await google.colab.kernel.invokeFunction(\n",
              "            'suggestCharts', [key], {});\n",
              "      } catch (error) {\n",
              "        console.error('Error during call to suggestCharts:', error);\n",
              "      }\n",
              "      quickchartButtonEl.classList.remove('colab-df-spinner');\n",
              "      quickchartButtonEl.classList.add('colab-df-quickchart-complete');\n",
              "    }\n",
              "    (() => {\n",
              "      let quickchartButtonEl =\n",
              "        document.querySelector('#df-eb03a344-9fca-4406-bce0-5a6e9d77c6c5 button');\n",
              "      quickchartButtonEl.style.display =\n",
              "        google.colab.kernel.accessAllowed ? 'block' : 'none';\n",
              "    })();\n",
              "  </script>\n",
              "</div>\n",
              "\n",
              "    </div>\n",
              "  </div>\n"
            ],
            "application/vnd.google.colaboratory.intrinsic+json": {
              "type": "dataframe",
              "variable_name": "df_logistic"
            }
          },
          "metadata": {},
          "execution_count": 12
        }
      ]
    },
    {
      "cell_type": "markdown",
      "source": [
        "#**Estimate Logistic Regression Model**\n"
      ],
      "metadata": {
        "id": "LrEwMm4d1qhf"
      }
    },
    {
      "cell_type": "code",
      "source": [
        "#@markdown Following ProPublica, we specify the following logistic regression model:\n",
        "# Right-hand side\n",
        "explanatory = \"priors_count + two_year_recid + Misdemeanor + \\\n",
        "age_cat_Greater_than_45 + age_cat_Less_than_25 + \\\n",
        "race_African_American + race_Asian + race_Hispanic + race_Native_American + \\\n",
        "race_Other + sex_Female\"\n",
        "\n",
        "# Left-hand side\n",
        "response = \"score_binary\"\n",
        "\n",
        "# Formula\n",
        "formula = response + \" ~ \" + explanatory\n",
        "print(formula)"
      ],
      "metadata": {
        "id": "BoRNONG22GoA",
        "colab": {
          "base_uri": "https://localhost:8080/"
        },
        "outputId": "455fa120-7501-457a-eda7-0df662c03cbb"
      },
      "execution_count": null,
      "outputs": [
        {
          "output_type": "stream",
          "name": "stdout",
          "text": [
            "score_binary ~ priors_count + two_year_recid + Misdemeanor + age_cat_Greater_than_45 + age_cat_Less_than_25 + race_African_American + race_Asian + race_Hispanic + race_Native_American + race_Other + sex_Female\n"
          ]
        }
      ]
    },
    {
      "cell_type": "code",
      "source": [
        "#@markdown *Let*'s fit the model:\n",
        "\n",
        "# Note: using family = sm.families.Binomial() specifies a logistic regression\n",
        "model = sm.formula.glm(formula = formula,\n",
        "                       family = sm.families.Binomial(),\n",
        "                       data = df_logistic).fit()\n",
        "\n",
        "print(model.summary())"
      ],
      "metadata": {
        "id": "3GA2bgcv2NRA",
        "colab": {
          "base_uri": "https://localhost:8080/"
        },
        "outputId": "207585d5-e20d-458b-e8d1-5a4a8a35a387"
      },
      "execution_count": null,
      "outputs": [
        {
          "output_type": "stream",
          "name": "stdout",
          "text": [
            "                              Generalized Linear Model Regression Results                              \n",
            "=======================================================================================================\n",
            "Dep. Variable:     ['score_binary[High]', 'score_binary[Low]']   No. Observations:                 6172\n",
            "Model:                                                     GLM   Df Residuals:                     6160\n",
            "Model Family:                                         Binomial   Df Model:                           11\n",
            "Link Function:                                           Logit   Scale:                          1.0000\n",
            "Method:                                                   IRLS   Log-Likelihood:                -3084.2\n",
            "Date:                                         Wed, 29 Jan 2025   Deviance:                       6168.4\n",
            "Time:                                                 20:40:50   Pearson chi2:                 6.07e+03\n",
            "No. Iterations:                                              6   Pseudo R-squ. (CS):             0.3128\n",
            "Covariance Type:                                     nonrobust                                         \n",
            "===================================================================================================\n",
            "                                      coef    std err          z      P>|z|      [0.025      0.975]\n",
            "---------------------------------------------------------------------------------------------------\n",
            "Intercept                          -1.5255      0.079    -19.430      0.000      -1.679      -1.372\n",
            "Misdemeanor[T.True]                -0.3112      0.067     -4.677      0.000      -0.442      -0.181\n",
            "age_cat_Greater_than_45[T.True]    -1.3556      0.099    -13.682      0.000      -1.550      -1.161\n",
            "age_cat_Less_than_25[T.True]        1.3084      0.076     17.232      0.000       1.160       1.457\n",
            "race_African_American[T.True]       0.4772      0.069      6.881      0.000       0.341       0.613\n",
            "race_Asian[T.True]                 -0.2544      0.478     -0.532      0.595      -1.192       0.683\n",
            "race_Hispanic[T.True]              -0.4284      0.128     -3.344      0.001      -0.680      -0.177\n",
            "race_Native_American[T.True]        1.3942      0.766      1.820      0.069      -0.107       2.896\n",
            "race_Other[T.True]                 -0.8263      0.162     -5.098      0.000      -1.144      -0.509\n",
            "sex_Female[T.True]                  0.2213      0.080      2.783      0.005       0.065       0.377\n",
            "priors_count                        0.2689      0.011     24.221      0.000       0.247       0.291\n",
            "two_year_recid                      0.6859      0.064     10.713      0.000       0.560       0.811\n",
            "===================================================================================================\n"
          ]
        }
      ]
    },
    {
      "cell_type": "markdown",
      "source": [
        "## Interpret Estimates\n",
        "\n",
        "\n",
        "Here's what the columns mean\n",
        "\n",
        "| **Term**               | **Explanation** | **Example** |\n",
        "|------------------------|----------------|-------------|\n",
        "| **Df Residuals**       | Remaining data points after accounting for predictors. | If we have **100** observations and **5** predictors, `Df Residuals` = **95**. |\n",
        "| **Df Model**          | Number of predictor variables used in the model. | If we include **age, gender, and income**, `Df Model` = **3**. |\n",
        "| **Method**            | **Iteratively Reweighted Least Squares (IRLS)**, an optimization technique for logistic regression. | Common for logistic regression. |\n",
        "| **Log-Likelihood**    | Measures how well the model fits the data; **higher is better**. | A model with `-3000` log-likelihood fits worse than one with `-2500`. |\n",
        "| **Deviance**         | Measures model fit; **lower is better** (similar to sum of squared errors). | Lower deviance suggests a better model. |\n",
        "| **Pearson chi2**     | Tests how well the model matches observed data; **lower is better**. | If too high, the model may not fit well. |\n",
        "| **No. Iterations**   | Number of times the model adjusted parameters before stabilizing. | If it took **6** tries, `No. Iterations` = **6**. |\n",
        "| **Pseudo R-squ. (CS)** | Similar to R² in linear regression but for logistic models. Ranges **0 to 1**; **higher is better**. | `0.31` = moderate predictive power. |\n",
        "| **Covariance Type**   | Determines how standard errors are calculated. \"Nonrobust\" assumes normal variance. | Robust methods adjust for inconsistencies. |\n",
        "\n",
        "Here’s what the columns in the second table mean:  \n",
        "\n",
        "| **Term**    | **Explanation** | **Example** |\n",
        "|------------|----------------|-------------|\n",
        "| **coef (Coefficient)** | Measures the effect of each predictor on the outcome in **log-odds**. **Positive** values increase the likelihood of the outcome; **negative** values decrease it. | If `age = -1.35`, being older **reduces** the likelihood of a \"High\" score. If `priors_count = 0.27`, more prior charges **increase** the likelihood. |\n",
        "| **std err (Standard Error)** | Shows how much the coefficient might vary due to sampling. **Smaller values** mean a more precise estimate. | A **small** standard error (`0.01`) means the estimate is reliable; a **large** one (`0.50`) means more uncertainty. |\n",
        "| **z (Z-Score)** | Tests if the predictor is significantly different from **zero**. Higher absolute values mean stronger evidence that the predictor matters. | If `z = 24.2`, the predictor is **highly significant**; if `z = -0.5`, it likely has **little effect**. |\n",
        "| **P>\\|z\\| (P-Value)** | Measures the probability that the predictor has **no effect**. **Lower values (< 0.05)** mean it's statistically significant. | If `P = 0.000`, the predictor is **very important**. If `P = 0.60`, it is **not statistically significant**. |\n",
        "| **[0.025, 0.975] (Confidence Interval)** | Shows the range where the true coefficient likely falls **95% of the time**. If the range **doesn’t include 0**, the predictor is significant. | If `(-1.50, -1.10)`, it’s **statistically significant**. If `(-0.50, 0.60)`, it’s **not significant** because 0 is inside the range. |"
      ],
      "metadata": {
        "id": "nKwiqVjV2jWj"
      }
    },
    {
      "cell_type": "markdown",
      "source": [
        "Take a moment to read through the model summary.\n",
        "\n",
        "\n",
        "Concept: **Odds Ratio** (OR) compares the odds of an outcome occurring in one group to the odds of it occurring in another group. An OR of 1 means no association, >1 indicates higher odds in the first group, and <1 suggests lower odds.\n",
        "\n",
        "\n",
        "One way to interpret the estimates is by calculating odds ratios. To calculate odds ratios, we take the exponential of the coefficients. For example, taking the exponential of the coefficient for sex_Female ($\\beta_{female}$ = 0.2213) will return the odds of score_text taking the value \"high\" for a female relative to a male. Calculate this odds ratio here:"
      ],
      "metadata": {
        "id": "NpRX3jIc2nZ7"
      }
    },
    {
      "cell_type": "code",
      "source": [
        "# TODO: write code to calculate the odds for female defendants here\n",
        "\n",
        "sex_Female = 0.2213\n",
        "odds_ratio_female = math.exp(sex_Female)\n",
        "print(odds_ratio_female)"
      ],
      "metadata": {
        "id": "PR6FmL0t2uy3",
        "colab": {
          "base_uri": "https://localhost:8080/"
        },
        "outputId": "be76d9b2-f1e9-4bdf-8dc8-a2b8e66d47cd"
      },
      "execution_count": null,
      "outputs": [
        {
          "output_type": "stream",
          "name": "stdout",
          "text": [
            "1.247697683728402\n"
          ]
        }
      ]
    },
    {
      "cell_type": "markdown",
      "source": [
        "In words, the odds that COMPAS labeled a defendant as \"high risk\" of recidivism is 1.25 times greater for a female than a male.\n",
        "\n",
        "Next, calculate the odds ratio for all of the coefficients in the model:"
      ],
      "metadata": {
        "id": "1q-UEWCHarTj"
      }
    },
    {
      "cell_type": "code",
      "source": [
        "# TODO: write code to calculate the odds ratio for all variables in the\n",
        "# logistic regression model here\n",
        "\n",
        "coefficients = model.params\n",
        "odds_ratios = np.exp(coefficients)\n",
        "print(odds_ratios)"
      ],
      "metadata": {
        "id": "1maXDYwW21V6",
        "colab": {
          "base_uri": "https://localhost:8080/"
        },
        "outputId": "ae4858c0-c7a8-4dc4-fb9a-a09ef874a1d2"
      },
      "execution_count": null,
      "outputs": [
        {
          "output_type": "stream",
          "name": "stdout",
          "text": [
            "Intercept                          0.217504\n",
            "Misdemeanor[T.True]                0.732537\n",
            "age_cat_Greater_than_45[T.True]    0.257784\n",
            "age_cat_Less_than_25[T.True]       3.700213\n",
            "race_African_American[T.True]      1.611567\n",
            "race_Asian[T.True]                 0.775370\n",
            "race_Hispanic[T.True]              0.651554\n",
            "race_Native_American[T.True]       4.031779\n",
            "race_Other[T.True]                 0.437645\n",
            "sex_Female[T.True]                 1.247656\n",
            "priors_count                       1.308584\n",
            "two_year_recid                     1.985484\n",
            "dtype: float64\n"
          ]
        }
      ]
    },
    {
      "cell_type": "markdown",
      "source": [
        "Take a moment to read through these coefficients. What is the reference category for each variable? (e.g. For females, the reference category is male.) Think in terms of comparisons, for example:\n",
        "\n",
        "> A person with a value of [ &nbsp; &nbsp; ] on variable [ &nbsp; &nbsp; ] is [ &nbsp; &nbsp; ] times more likely to be labeled high risk compared to a person with a value of [ &nbsp; &nbsp; ] on variable [ &nbsp; &nbsp; ]\n",
        "\n",
        "In the female example above, this could be stated:\n",
        "\n",
        "> \"A person with a value of female on variable sex is 1.25 times more likely to be labeled high risk compared to a person with a value of male on variable sex\"\n",
        "\n",
        "Of course, we should be more straightforward when writing up results. \"A person with a value of male on variable sex\" is rather verbose; \"males\" will suffice. Interpreting model estimates in straightforward terms is an underrated skill.\n"
      ],
      "metadata": {
        "id": "ecbL5XPU28Ix"
      }
    },
    {
      "cell_type": "markdown",
      "source": [
        "# **TODO: Summarize the odds associated with the \"age_cat\" variable in this text cell (two sentences maximum):**"
      ],
      "metadata": {
        "id": "8wRiRtWv3B7V"
      }
    },
    {
      "cell_type": "markdown",
      "source": [
        "Based on the odd ratios, a person with a value of less than 25 years on variable age is 3.70 times more likely to be labeled high risk compared to a person of age 25-45 (middle aged). The same can be said about a person with a value of higher than 45 years old are 0.26 times as likely to be labeled as high risk."
      ],
      "metadata": {
        "id": "pTz5idpc3Fzj"
      }
    },
    {
      "cell_type": "markdown",
      "source": [
        "Before moving on, think about how the above estimates relate to the concepts of fairness introduced in Lecture 1. (Hint: To what extent do these findings about the assignment of risk labels in COMPAS relate to pre-existing bias, technical bias, and emergent bias). You are not required to write down your answer for completion of this notebook."
      ],
      "metadata": {
        "id": "KciMyWxN3JGM"
      }
    },
    {
      "cell_type": "markdown",
      "source": [
        "## Predictive Accuracy\n",
        "\n",
        "In terms of fairness, ProPublica focused the predictive accuracy of the COMPAS algorithm. In this case, predictive accuracy refers to the concordance between a person's recidivism and the label assigned to that person by the COMPAS algorithm. For instance, how often did COMPAS predict that a person was at \"high risk\" of recidivism and that person in fact recidivated within two years? We can think of this in terms of a 2x2 table:\n",
        "\n",
        "|      | Did not recidivate | Recidivated   |\n",
        "| :---        |    :----:   |          ---: |\n",
        "| **Labeled high risk**  | A       | B   |\n",
        "| **Labeled low risk**   | C       | D      |\n",
        "\n",
        "ProPublica reported A and D for black defendants and white defendants, separately.\n",
        "\n",
        "## **TODO: What are generic terms for A and D? Why focus on A and D?**"
      ],
      "metadata": {
        "id": "V2bQ6AEa3Oai"
      }
    },
    {
      "cell_type": "markdown",
      "source": [
        "A is considered as false positive, and D is considered as a false negative (Type 2 error)\n",
        "\n"
      ],
      "metadata": {
        "id": "cHycuhC93U4p"
      }
    },
    {
      "cell_type": "code",
      "source": [
        "#@markdown ProPublica used a somewhat different data set to calculate the predictive accuracy of COMPAS. In this section we will use the ```df_logistic``` data we preprocessed above for brevity. Note therefore that the numbers we calculate below will not match those reported by ProPublica. Let's generate a crosstab of the variable denoting recidivism within two years (```is_recid```) and the binary score variable (```score_binary```):\n",
        "\n",
        "print(\"All defendants\")\n",
        "pd.crosstab(df_logistic[\"score_binary\"], df_logistic[\"is_recid\"])"
      ],
      "metadata": {
        "id": "NRTQV9x53Ywz",
        "colab": {
          "base_uri": "https://localhost:8080/",
          "height": 160
        },
        "outputId": "8ea234d3-c80f-4e43-afc4-510594490851"
      },
      "execution_count": null,
      "outputs": [
        {
          "output_type": "stream",
          "name": "stdout",
          "text": [
            "All defendants\n"
          ]
        },
        {
          "output_type": "execute_result",
          "data": {
            "text/plain": [
              "is_recid         0     1\n",
              "score_binary            \n",
              "High           934  1817\n",
              "Low           2248  1173"
            ],
            "text/html": [
              "\n",
              "  <div id=\"df-8355172e-88c5-4129-a30f-1625cddf07fa\" class=\"colab-df-container\">\n",
              "    <div>\n",
              "<style scoped>\n",
              "    .dataframe tbody tr th:only-of-type {\n",
              "        vertical-align: middle;\n",
              "    }\n",
              "\n",
              "    .dataframe tbody tr th {\n",
              "        vertical-align: top;\n",
              "    }\n",
              "\n",
              "    .dataframe thead th {\n",
              "        text-align: right;\n",
              "    }\n",
              "</style>\n",
              "<table border=\"1\" class=\"dataframe\">\n",
              "  <thead>\n",
              "    <tr style=\"text-align: right;\">\n",
              "      <th>is_recid</th>\n",
              "      <th>0</th>\n",
              "      <th>1</th>\n",
              "    </tr>\n",
              "    <tr>\n",
              "      <th>score_binary</th>\n",
              "      <th></th>\n",
              "      <th></th>\n",
              "    </tr>\n",
              "  </thead>\n",
              "  <tbody>\n",
              "    <tr>\n",
              "      <th>High</th>\n",
              "      <td>934</td>\n",
              "      <td>1817</td>\n",
              "    </tr>\n",
              "    <tr>\n",
              "      <th>Low</th>\n",
              "      <td>2248</td>\n",
              "      <td>1173</td>\n",
              "    </tr>\n",
              "  </tbody>\n",
              "</table>\n",
              "</div>\n",
              "    <div class=\"colab-df-buttons\">\n",
              "\n",
              "  <div class=\"colab-df-container\">\n",
              "    <button class=\"colab-df-convert\" onclick=\"convertToInteractive('df-8355172e-88c5-4129-a30f-1625cddf07fa')\"\n",
              "            title=\"Convert this dataframe to an interactive table.\"\n",
              "            style=\"display:none;\">\n",
              "\n",
              "  <svg xmlns=\"http://www.w3.org/2000/svg\" height=\"24px\" viewBox=\"0 -960 960 960\">\n",
              "    <path d=\"M120-120v-720h720v720H120Zm60-500h600v-160H180v160Zm220 220h160v-160H400v160Zm0 220h160v-160H400v160ZM180-400h160v-160H180v160Zm440 0h160v-160H620v160ZM180-180h160v-160H180v160Zm440 0h160v-160H620v160Z\"/>\n",
              "  </svg>\n",
              "    </button>\n",
              "\n",
              "  <style>\n",
              "    .colab-df-container {\n",
              "      display:flex;\n",
              "      gap: 12px;\n",
              "    }\n",
              "\n",
              "    .colab-df-convert {\n",
              "      background-color: #E8F0FE;\n",
              "      border: none;\n",
              "      border-radius: 50%;\n",
              "      cursor: pointer;\n",
              "      display: none;\n",
              "      fill: #1967D2;\n",
              "      height: 32px;\n",
              "      padding: 0 0 0 0;\n",
              "      width: 32px;\n",
              "    }\n",
              "\n",
              "    .colab-df-convert:hover {\n",
              "      background-color: #E2EBFA;\n",
              "      box-shadow: 0px 1px 2px rgba(60, 64, 67, 0.3), 0px 1px 3px 1px rgba(60, 64, 67, 0.15);\n",
              "      fill: #174EA6;\n",
              "    }\n",
              "\n",
              "    .colab-df-buttons div {\n",
              "      margin-bottom: 4px;\n",
              "    }\n",
              "\n",
              "    [theme=dark] .colab-df-convert {\n",
              "      background-color: #3B4455;\n",
              "      fill: #D2E3FC;\n",
              "    }\n",
              "\n",
              "    [theme=dark] .colab-df-convert:hover {\n",
              "      background-color: #434B5C;\n",
              "      box-shadow: 0px 1px 3px 1px rgba(0, 0, 0, 0.15);\n",
              "      filter: drop-shadow(0px 1px 2px rgba(0, 0, 0, 0.3));\n",
              "      fill: #FFFFFF;\n",
              "    }\n",
              "  </style>\n",
              "\n",
              "    <script>\n",
              "      const buttonEl =\n",
              "        document.querySelector('#df-8355172e-88c5-4129-a30f-1625cddf07fa button.colab-df-convert');\n",
              "      buttonEl.style.display =\n",
              "        google.colab.kernel.accessAllowed ? 'block' : 'none';\n",
              "\n",
              "      async function convertToInteractive(key) {\n",
              "        const element = document.querySelector('#df-8355172e-88c5-4129-a30f-1625cddf07fa');\n",
              "        const dataTable =\n",
              "          await google.colab.kernel.invokeFunction('convertToInteractive',\n",
              "                                                    [key], {});\n",
              "        if (!dataTable) return;\n",
              "\n",
              "        const docLinkHtml = 'Like what you see? Visit the ' +\n",
              "          '<a target=\"_blank\" href=https://colab.research.google.com/notebooks/data_table.ipynb>data table notebook</a>'\n",
              "          + ' to learn more about interactive tables.';\n",
              "        element.innerHTML = '';\n",
              "        dataTable['output_type'] = 'display_data';\n",
              "        await google.colab.output.renderOutput(dataTable, element);\n",
              "        const docLink = document.createElement('div');\n",
              "        docLink.innerHTML = docLinkHtml;\n",
              "        element.appendChild(docLink);\n",
              "      }\n",
              "    </script>\n",
              "  </div>\n",
              "\n",
              "\n",
              "<div id=\"df-dabbd4a9-7998-43ec-b726-80d8ca20bc26\">\n",
              "  <button class=\"colab-df-quickchart\" onclick=\"quickchart('df-dabbd4a9-7998-43ec-b726-80d8ca20bc26')\"\n",
              "            title=\"Suggest charts\"\n",
              "            style=\"display:none;\">\n",
              "\n",
              "<svg xmlns=\"http://www.w3.org/2000/svg\" height=\"24px\"viewBox=\"0 0 24 24\"\n",
              "     width=\"24px\">\n",
              "    <g>\n",
              "        <path d=\"M19 3H5c-1.1 0-2 .9-2 2v14c0 1.1.9 2 2 2h14c1.1 0 2-.9 2-2V5c0-1.1-.9-2-2-2zM9 17H7v-7h2v7zm4 0h-2V7h2v10zm4 0h-2v-4h2v4z\"/>\n",
              "    </g>\n",
              "</svg>\n",
              "  </button>\n",
              "\n",
              "<style>\n",
              "  .colab-df-quickchart {\n",
              "      --bg-color: #E8F0FE;\n",
              "      --fill-color: #1967D2;\n",
              "      --hover-bg-color: #E2EBFA;\n",
              "      --hover-fill-color: #174EA6;\n",
              "      --disabled-fill-color: #AAA;\n",
              "      --disabled-bg-color: #DDD;\n",
              "  }\n",
              "\n",
              "  [theme=dark] .colab-df-quickchart {\n",
              "      --bg-color: #3B4455;\n",
              "      --fill-color: #D2E3FC;\n",
              "      --hover-bg-color: #434B5C;\n",
              "      --hover-fill-color: #FFFFFF;\n",
              "      --disabled-bg-color: #3B4455;\n",
              "      --disabled-fill-color: #666;\n",
              "  }\n",
              "\n",
              "  .colab-df-quickchart {\n",
              "    background-color: var(--bg-color);\n",
              "    border: none;\n",
              "    border-radius: 50%;\n",
              "    cursor: pointer;\n",
              "    display: none;\n",
              "    fill: var(--fill-color);\n",
              "    height: 32px;\n",
              "    padding: 0;\n",
              "    width: 32px;\n",
              "  }\n",
              "\n",
              "  .colab-df-quickchart:hover {\n",
              "    background-color: var(--hover-bg-color);\n",
              "    box-shadow: 0 1px 2px rgba(60, 64, 67, 0.3), 0 1px 3px 1px rgba(60, 64, 67, 0.15);\n",
              "    fill: var(--button-hover-fill-color);\n",
              "  }\n",
              "\n",
              "  .colab-df-quickchart-complete:disabled,\n",
              "  .colab-df-quickchart-complete:disabled:hover {\n",
              "    background-color: var(--disabled-bg-color);\n",
              "    fill: var(--disabled-fill-color);\n",
              "    box-shadow: none;\n",
              "  }\n",
              "\n",
              "  .colab-df-spinner {\n",
              "    border: 2px solid var(--fill-color);\n",
              "    border-color: transparent;\n",
              "    border-bottom-color: var(--fill-color);\n",
              "    animation:\n",
              "      spin 1s steps(1) infinite;\n",
              "  }\n",
              "\n",
              "  @keyframes spin {\n",
              "    0% {\n",
              "      border-color: transparent;\n",
              "      border-bottom-color: var(--fill-color);\n",
              "      border-left-color: var(--fill-color);\n",
              "    }\n",
              "    20% {\n",
              "      border-color: transparent;\n",
              "      border-left-color: var(--fill-color);\n",
              "      border-top-color: var(--fill-color);\n",
              "    }\n",
              "    30% {\n",
              "      border-color: transparent;\n",
              "      border-left-color: var(--fill-color);\n",
              "      border-top-color: var(--fill-color);\n",
              "      border-right-color: var(--fill-color);\n",
              "    }\n",
              "    40% {\n",
              "      border-color: transparent;\n",
              "      border-right-color: var(--fill-color);\n",
              "      border-top-color: var(--fill-color);\n",
              "    }\n",
              "    60% {\n",
              "      border-color: transparent;\n",
              "      border-right-color: var(--fill-color);\n",
              "    }\n",
              "    80% {\n",
              "      border-color: transparent;\n",
              "      border-right-color: var(--fill-color);\n",
              "      border-bottom-color: var(--fill-color);\n",
              "    }\n",
              "    90% {\n",
              "      border-color: transparent;\n",
              "      border-bottom-color: var(--fill-color);\n",
              "    }\n",
              "  }\n",
              "</style>\n",
              "\n",
              "  <script>\n",
              "    async function quickchart(key) {\n",
              "      const quickchartButtonEl =\n",
              "        document.querySelector('#' + key + ' button');\n",
              "      quickchartButtonEl.disabled = true;  // To prevent multiple clicks.\n",
              "      quickchartButtonEl.classList.add('colab-df-spinner');\n",
              "      try {\n",
              "        const charts = await google.colab.kernel.invokeFunction(\n",
              "            'suggestCharts', [key], {});\n",
              "      } catch (error) {\n",
              "        console.error('Error during call to suggestCharts:', error);\n",
              "      }\n",
              "      quickchartButtonEl.classList.remove('colab-df-spinner');\n",
              "      quickchartButtonEl.classList.add('colab-df-quickchart-complete');\n",
              "    }\n",
              "    (() => {\n",
              "      let quickchartButtonEl =\n",
              "        document.querySelector('#df-dabbd4a9-7998-43ec-b726-80d8ca20bc26 button');\n",
              "      quickchartButtonEl.style.display =\n",
              "        google.colab.kernel.accessAllowed ? 'block' : 'none';\n",
              "    })();\n",
              "  </script>\n",
              "</div>\n",
              "\n",
              "    </div>\n",
              "  </div>\n"
            ],
            "application/vnd.google.colaboratory.intrinsic+json": {
              "type": "dataframe",
              "summary": "{\n  \"name\": \"pd\",\n  \"rows\": 2,\n  \"fields\": [\n    {\n      \"column\": \"score_binary\",\n      \"properties\": {\n        \"dtype\": \"category\",\n        \"num_unique_values\": 2,\n        \"samples\": [\n          \"Low\",\n          \"High\"\n        ],\n        \"semantic_type\": \"\",\n        \"description\": \"\"\n      }\n    },\n    {\n      \"column\": 0,\n      \"properties\": {\n        \"dtype\": \"number\",\n        \"std\": 929,\n        \"min\": 934,\n        \"max\": 2248,\n        \"num_unique_values\": 2,\n        \"samples\": [\n          2248,\n          934\n        ],\n        \"semantic_type\": \"\",\n        \"description\": \"\"\n      }\n    },\n    {\n      \"column\": 1,\n      \"properties\": {\n        \"dtype\": \"number\",\n        \"std\": 455,\n        \"min\": 1173,\n        \"max\": 1817,\n        \"num_unique_values\": 2,\n        \"samples\": [\n          1173,\n          1817\n        ],\n        \"semantic_type\": \"\",\n        \"description\": \"\"\n      }\n    }\n  ]\n}"
            }
          },
          "metadata": {},
          "execution_count": 21
        }
      ]
    },
    {
      "cell_type": "markdown",
      "source": [
        "Based on this crosstab, input the number of true positives, false positives,\n",
        "true negatives, and false negatives:"
      ],
      "metadata": {
        "id": "7xWNrA2V3c8g"
      }
    },
    {
      "cell_type": "code",
      "source": [
        "# TODO\n",
        "true_positive  = 1817#@param {type:\"number\"}\n",
        "false_positive = 934#@param {type:\"number\"}\n",
        "true_negative  = 2248#@param {type:\"number\"}\n",
        "false_negative = 1173#@param {type:\"number\"}"
      ],
      "metadata": {
        "id": "T0AAHDco3dlZ"
      },
      "execution_count": null,
      "outputs": []
    },
    {
      "cell_type": "markdown",
      "source": [
        "You can calculate the false positive rate by taking FP / (FP + TN), where FP is the number of false positives and TN is the number of true negatives. Calculate the false positive rate:"
      ],
      "metadata": {
        "id": "Qw2OkvJ83o_H"
      }
    },
    {
      "cell_type": "code",
      "source": [
        "# TODO: write code to calculate the false positive rate for all defendants\n",
        "# in this code cell\n",
        "\n",
        "false_positive_rate = false_positive / (false_positive + true_negative)\n",
        "print(false_positive_rate)"
      ],
      "metadata": {
        "id": "SI0udamh3rsh",
        "colab": {
          "base_uri": "https://localhost:8080/"
        },
        "outputId": "298e5e53-620e-43c5-f5fa-7ba35939b9ba"
      },
      "execution_count": null,
      "outputs": [
        {
          "output_type": "stream",
          "name": "stdout",
          "text": [
            "0.29352608422375864\n"
          ]
        }
      ]
    },
    {
      "cell_type": "markdown",
      "source": [
        "Now calculate the false negative rate: (hint, replace the terms in the false positive rate formula in the previous text cell)"
      ],
      "metadata": {
        "id": "EvKEqT4i3vWY"
      }
    },
    {
      "cell_type": "code",
      "source": [
        "# TODO: write code to calculate the false negative rate for all defendants\n",
        "# in this code cell\n",
        "\n",
        "false_negative_rate = false_negative / (false_negative + true_positive)\n",
        "print(false_negative_rate)"
      ],
      "metadata": {
        "id": "Sa6oUvZl3weQ",
        "colab": {
          "base_uri": "https://localhost:8080/"
        },
        "outputId": "71a9c4d3-26d5-42f3-f0b0-fda97e758060"
      },
      "execution_count": null,
      "outputs": [
        {
          "output_type": "stream",
          "name": "stdout",
          "text": [
            "0.3923076923076923\n"
          ]
        }
      ]
    },
    {
      "cell_type": "markdown",
      "source": [
        "How do the false positive and false negative rates vary by sex? Let's generate a crosstab of \"score_binary\" and \"is_recid\" for female defendants:"
      ],
      "metadata": {
        "id": "dIRqyuyF37gU"
      }
    },
    {
      "cell_type": "code",
      "source": [
        "#@markdown\n",
        "mask = df_logistic[\"sex_Female\"] == 1\n",
        "print(pd.crosstab(df_logistic.loc[mask, \"score_binary\"],\n",
        "                  df_logistic.loc[mask, \"is_recid\"]))\n",
        "print(\"Female defendants\")"
      ],
      "metadata": {
        "id": "xpn6s00X3ytv",
        "colab": {
          "base_uri": "https://localhost:8080/"
        },
        "outputId": "9d9b1339-9369-4f30-8cb0-a5e2f123f4ce"
      },
      "execution_count": null,
      "outputs": [
        {
          "output_type": "stream",
          "name": "stdout",
          "text": [
            "is_recid        0    1\n",
            "score_binary          \n",
            "High          220  256\n",
            "Low           520  179\n",
            "Female defendants\n"
          ]
        }
      ]
    },
    {
      "cell_type": "markdown",
      "source": [
        "Based on this crosstab, calculate the false positive, false negative rates and accuracy for females:"
      ],
      "metadata": {
        "id": "msgHiXAN4C1D"
      }
    },
    {
      "cell_type": "code",
      "source": [
        "# TODO: write code to calculate the false positive rate and false negative rate for\n",
        "# female defendants in this code cell\n",
        "\n",
        "mask = df_logistic[\"sex_Female\"] == 1\n",
        "matrix = pd.crosstab(df_logistic.loc[mask, \"score_binary\"],\n",
        "                  df_logistic.loc[mask, \"is_recid\"])\n",
        "print(matrix)\n",
        "print(\"Female defendants\")\n",
        "\n",
        "false_positive_rate = matrix.iloc[0, 0] / (matrix.iloc[0, 0] + matrix.iloc[1, 0])\n",
        "print(false_positive_rate)\n",
        "\n",
        "false_negative_rate = matrix.iloc[1, 1] / (matrix.iloc[1, 1] + matrix.iloc[0, 1])\n",
        "print(false_negative_rate)"
      ],
      "metadata": {
        "id": "oBwPrvgh4GAL",
        "colab": {
          "base_uri": "https://localhost:8080/"
        },
        "outputId": "bfc3c1ad-95cc-4251-d6e9-001d100fac53"
      },
      "execution_count": null,
      "outputs": [
        {
          "output_type": "stream",
          "name": "stdout",
          "text": [
            "is_recid        0    1\n",
            "score_binary          \n",
            "High          220  256\n",
            "Low           520  179\n",
            "Female defendants\n",
            "0.2972972972972973\n",
            "0.4114942528735632\n"
          ]
        }
      ]
    },
    {
      "cell_type": "markdown",
      "source": [
        "Now repeat the process and calculate the false positive rate, false negative rate  and accuracy for male defendants:"
      ],
      "metadata": {
        "id": "fLSWX3qb4KGp"
      }
    },
    {
      "cell_type": "code",
      "source": [
        "# TODO: write code to generate a crosstab for male defendants in this code cell\n",
        "\n",
        "mask = df_logistic[\"sex_Male\"] == 1\n",
        "print(pd.crosstab(df_logistic.loc[mask, \"score_binary\"],\n",
        "                  df_logistic.loc[mask, \"is_recid\"]))\n",
        "print(\"Male defendants\")"
      ],
      "metadata": {
        "id": "DpQJrYw-4N08",
        "colab": {
          "base_uri": "https://localhost:8080/"
        },
        "outputId": "0ad438cc-715b-4c52-d060-1cf44ab90366"
      },
      "execution_count": null,
      "outputs": [
        {
          "output_type": "stream",
          "name": "stdout",
          "text": [
            "is_recid         0     1\n",
            "score_binary            \n",
            "High           714  1561\n",
            "Low           1728   994\n",
            "Male defendants\n"
          ]
        }
      ]
    },
    {
      "cell_type": "code",
      "source": [
        "# TODO: write code to calculate the false positive rate and false negative rate for\n",
        "# male defendants in this code cell\n",
        "\n",
        "mask = df_logistic[\"sex_Male\"] == 1\n",
        "matrix = pd.crosstab(df_logistic.loc[mask, \"score_binary\"],\n",
        "                  df_logistic.loc[mask, \"is_recid\"])\n",
        "print(matrix)\n",
        "print(\"Male defendants\")\n",
        "\n",
        "false_positive_rate = matrix.iloc[0, 0] / (matrix.iloc[0, 0] + matrix.iloc[1, 0])\n",
        "print(false_positive_rate)\n",
        "\n",
        "false_negative_rate = matrix.iloc[1, 1] / (matrix.iloc[1, 1] + matrix.iloc[0, 1])\n",
        "print(false_negative_rate)"
      ],
      "metadata": {
        "id": "jbvWYlm84OqD",
        "colab": {
          "base_uri": "https://localhost:8080/"
        },
        "outputId": "f533787e-7217-485b-c306-206b688c9683"
      },
      "execution_count": null,
      "outputs": [
        {
          "output_type": "stream",
          "name": "stdout",
          "text": [
            "is_recid         0     1\n",
            "score_binary            \n",
            "High           714  1561\n",
            "Low           1728   994\n",
            "Male defendants\n",
            "0.29238329238329236\n",
            "0.38904109589041097\n"
          ]
        }
      ]
    },
    {
      "cell_type": "markdown",
      "source": [
        "How do the false positive and false negative rates vary by race? Calculate the false positive rate, false negative rate and accuracy for White defendants:"
      ],
      "metadata": {
        "id": "qU-6Xy2M4Tze"
      }
    },
    {
      "cell_type": "code",
      "source": [
        "# TODO: write code to generate a crosstab for White defendants in this code cell\n",
        "\n",
        "mask = df_logistic[\"race_Caucasian\"] == 1\n",
        "print(pd.crosstab(df_logistic.loc[mask, \"score_binary\"],\n",
        "                  df_logistic.loc[mask, \"is_recid\"]))\n",
        "print(\"White defendants\")"
      ],
      "metadata": {
        "id": "rtpmVvjN4Xsb",
        "colab": {
          "base_uri": "https://localhost:8080/"
        },
        "outputId": "bff9c63b-ffbc-44a5-e613-7d89f984197f"
      },
      "execution_count": null,
      "outputs": [
        {
          "output_type": "stream",
          "name": "stdout",
          "text": [
            "is_recid        0    1\n",
            "score_binary          \n",
            "High          266  430\n",
            "Low           963  444\n",
            "White defendants\n"
          ]
        }
      ]
    },
    {
      "cell_type": "code",
      "source": [
        "# TODO: write code to calculate the false positive rate and false negative rate for\n",
        "# White defendants in this code cell\n",
        "\n",
        "mask = df_logistic[\"race_Caucasian\"] == 1\n",
        "matrix = pd.crosstab(df_logistic.loc[mask, \"score_binary\"],\n",
        "                  df_logistic.loc[mask, \"is_recid\"])\n",
        "print(matrix)\n",
        "print(\"White defendants\")\n",
        "\n",
        "false_positive_rate = matrix.iloc[0, 0] / (matrix.iloc[0, 0] + matrix.iloc[1, 0])\n",
        "print(false_positive_rate)\n",
        "\n",
        "false_negative_rate = matrix.iloc[1, 1] / (matrix.iloc[1, 1] + matrix.iloc[0, 1])\n",
        "print(false_negative_rate)"
      ],
      "metadata": {
        "id": "TtLxjY-Z4aQv",
        "colab": {
          "base_uri": "https://localhost:8080/"
        },
        "outputId": "b8528166-f9ee-461e-970d-de6632f713a4"
      },
      "execution_count": null,
      "outputs": [
        {
          "output_type": "stream",
          "name": "stdout",
          "text": [
            "is_recid        0    1\n",
            "score_binary          \n",
            "High          266  430\n",
            "Low           963  444\n",
            "White defendants\n",
            "0.21643612693246542\n",
            "0.5080091533180778\n"
          ]
        }
      ]
    },
    {
      "cell_type": "markdown",
      "source": [
        "Lastly, calculate the false positive rate, false negative rate and accuracy for Black defendants:"
      ],
      "metadata": {
        "id": "nH0cOH0B4ctR"
      }
    },
    {
      "cell_type": "code",
      "source": [
        "# TODO: write code to generate a crosstab for Black defendants in this code cell\n",
        "\n",
        "mask = df_logistic[\"race_African_American\"] == 1\n",
        "matrix = pd.crosstab(df_logistic.loc[mask, \"score_binary\"],\n",
        "                  df_logistic.loc[mask, \"is_recid\"])\n",
        "print(matrix)\n",
        "print(\"Black defendants\")"
      ],
      "metadata": {
        "id": "zVxW6bFY4f1Q",
        "colab": {
          "base_uri": "https://localhost:8080/"
        },
        "outputId": "f70ff658-5943-4bd4-fa1c-6f643e8fabf8"
      },
      "execution_count": null,
      "outputs": [
        {
          "output_type": "stream",
          "name": "stdout",
          "text": [
            "is_recid        0     1\n",
            "score_binary           \n",
            "High          581  1248\n",
            "Low           821   525\n",
            "Black defendants\n"
          ]
        }
      ]
    },
    {
      "cell_type": "code",
      "source": [
        "# TODO: write code to calculate the false positive rate and false negative rate for\n",
        "# Black defendnats in this code cell\n",
        "\n",
        "mask = df_logistic[\"race_African_American\"] == 1\n",
        "matrix = pd.crosstab(df_logistic.loc[mask, \"score_binary\"],\n",
        "                  df_logistic.loc[mask, \"is_recid\"])\n",
        "print(matrix)\n",
        "print(\"Black defendants\")\n",
        "\n",
        "false_positive_rate = matrix.iloc[0, 0] / (matrix.iloc[0, 0] + matrix.iloc[1, 0])\n",
        "print(false_positive_rate)\n",
        "\n",
        "false_negative_rate = matrix.iloc[1, 1] / (matrix.iloc[1, 1] + matrix.iloc[0, 1])\n",
        "print(false_negative_rate)"
      ],
      "metadata": {
        "id": "DzEvMgcS4igo",
        "colab": {
          "base_uri": "https://localhost:8080/"
        },
        "outputId": "c10696f9-c2ba-498c-83e4-6b7e31cc900a"
      },
      "execution_count": null,
      "outputs": [
        {
          "output_type": "stream",
          "name": "stdout",
          "text": [
            "is_recid        0     1\n",
            "score_binary           \n",
            "High          581  1248\n",
            "Low           821   525\n",
            "Black defendants\n",
            "0.4144079885877318\n",
            "0.2961082910321489\n"
          ]
        }
      ]
    },
    {
      "cell_type": "markdown",
      "source": [
        "Take a moment to review and compare the false positive rates and false negative rates above. Consider how these rates relate to the concepts of fairness you've encountered in the reading material and the lecture. You may write this in a text cell below but it is not required for the completion of your notebook."
      ],
      "metadata": {
        "id": "I90wC5Jw4lnC"
      }
    },
    {
      "cell_type": "markdown",
      "source": [
        "There is shown to be a clear bias between Black and White defendants as seen from the rates above. We see that Black Defendants have a false positive rate of 0.41 and a false negative rate of 0.29, while White Defendants have a false positive rate of of 0.21 and a false negative rate of 0.51. From this rate, we see that Black Defendants were more often falsely accused for high risk when they were not."
      ],
      "metadata": {
        "id": "bceeMzHP72g8"
      }
    },
    {
      "cell_type": "markdown",
      "source": [
        "# Submitting this Lab Notebook\n",
        "\n",
        "Once complete, please submit your lab notebook as an attachment under \"Assignments > Studios > Lab 1-2\" on Canvas. You can download a copy of your notebook using ```File > Download .ipynb```. Please ensure you submit the `.ipynb` file (and not a `.py` file)."
      ],
      "metadata": {
        "id": "cM3yL2E8Iu9n"
      }
    },
    {
      "cell_type": "markdown",
      "source": [
        "Credit: Developed by Julia Stoyanovich and collaborators at NYU, revised by Athena Tabakhi at WashU."
      ],
      "metadata": {
        "id": "uCadGPx4NZL6"
      }
    }
  ]
}